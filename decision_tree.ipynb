{
 "cells": [
  {
   "cell_type": "code",
   "execution_count": 1,
   "id": "5f17eb85",
   "metadata": {},
   "outputs": [],
   "source": [
    "# imports\n",
    "\n",
    "import pandas as pd\n",
    "import numpy as np\n",
    "import matplotlib.pyplot as plt\n",
    "\n",
    "import os\n",
    "from env import get_connection\n",
    "\n",
    "\n",
    "from sklearn.model_selection import train_test_split\n",
    "from sklearn.tree import DecisionTreeClassifier, plot_tree\n",
    "from sklearn.metrics import classification_report, confusion_matrix, accuracy_score\n",
    "\n",
    "import acquire\n",
    "import prepare"
   ]
  },
  {
   "cell_type": "markdown",
   "id": "5dc3f63f",
   "metadata": {},
   "source": [
    "#### Using the titanic data, in your classification-exercises repository, create a notebook, decision_tree.ipynb where you will do the following:\n",
    "\n",
    "1. What is your baseline prediction? What is your baseline accuracy? remember: your baseline prediction for a classification problem is predicting the most prevelant class in the training dataset (the mode). When you make those predictions, what is your accuracy? This is your baseline accuracy.\n",
    "\n",
    "2. Fit the decision tree classifier to your training sample and transform (i.e. make predictions on the training sample)\n",
    "\n",
    "3. Evaluate your in-sample results using the model score, confusion matrix, and classification report.\n",
    "\n",
    "4. Compute: Accuracy, true positive rate, false positive rate, true negative rate, false negative rate, precision, recall, f1-score, and support.\n",
    "\n",
    "5. Run through steps 2-4 using a different max_depth value.\n",
    "\n",
    "6. Which model performs better on your in-sample data?\n",
    "\n",
    "7. Which model performs best on your out-of-sample data, the validate set?"
   ]
  },
  {
   "cell_type": "code",
   "execution_count": 2,
   "id": "f0481b7f",
   "metadata": {},
   "outputs": [
    {
     "data": {
      "text/html": [
       "<div>\n",
       "<style scoped>\n",
       "    .dataframe tbody tr th:only-of-type {\n",
       "        vertical-align: middle;\n",
       "    }\n",
       "\n",
       "    .dataframe tbody tr th {\n",
       "        vertical-align: top;\n",
       "    }\n",
       "\n",
       "    .dataframe thead th {\n",
       "        text-align: right;\n",
       "    }\n",
       "</style>\n",
       "<table border=\"1\" class=\"dataframe\">\n",
       "  <thead>\n",
       "    <tr style=\"text-align: right;\">\n",
       "      <th></th>\n",
       "      <th>passenger_id</th>\n",
       "      <th>survived</th>\n",
       "      <th>pclass</th>\n",
       "      <th>sex</th>\n",
       "      <th>age</th>\n",
       "      <th>sibsp</th>\n",
       "      <th>parch</th>\n",
       "      <th>fare</th>\n",
       "      <th>embarked</th>\n",
       "      <th>class</th>\n",
       "      <th>deck</th>\n",
       "      <th>embark_town</th>\n",
       "      <th>alone</th>\n",
       "    </tr>\n",
       "  </thead>\n",
       "  <tbody>\n",
       "    <tr>\n",
       "      <th>0</th>\n",
       "      <td>0</td>\n",
       "      <td>0</td>\n",
       "      <td>3</td>\n",
       "      <td>male</td>\n",
       "      <td>22.0</td>\n",
       "      <td>1</td>\n",
       "      <td>0</td>\n",
       "      <td>7.2500</td>\n",
       "      <td>S</td>\n",
       "      <td>Third</td>\n",
       "      <td>NaN</td>\n",
       "      <td>Southampton</td>\n",
       "      <td>0</td>\n",
       "    </tr>\n",
       "    <tr>\n",
       "      <th>1</th>\n",
       "      <td>1</td>\n",
       "      <td>1</td>\n",
       "      <td>1</td>\n",
       "      <td>female</td>\n",
       "      <td>38.0</td>\n",
       "      <td>1</td>\n",
       "      <td>0</td>\n",
       "      <td>71.2833</td>\n",
       "      <td>C</td>\n",
       "      <td>First</td>\n",
       "      <td>C</td>\n",
       "      <td>Cherbourg</td>\n",
       "      <td>0</td>\n",
       "    </tr>\n",
       "    <tr>\n",
       "      <th>2</th>\n",
       "      <td>2</td>\n",
       "      <td>1</td>\n",
       "      <td>3</td>\n",
       "      <td>female</td>\n",
       "      <td>26.0</td>\n",
       "      <td>0</td>\n",
       "      <td>0</td>\n",
       "      <td>7.9250</td>\n",
       "      <td>S</td>\n",
       "      <td>Third</td>\n",
       "      <td>NaN</td>\n",
       "      <td>Southampton</td>\n",
       "      <td>1</td>\n",
       "    </tr>\n",
       "    <tr>\n",
       "      <th>3</th>\n",
       "      <td>3</td>\n",
       "      <td>1</td>\n",
       "      <td>1</td>\n",
       "      <td>female</td>\n",
       "      <td>35.0</td>\n",
       "      <td>1</td>\n",
       "      <td>0</td>\n",
       "      <td>53.1000</td>\n",
       "      <td>S</td>\n",
       "      <td>First</td>\n",
       "      <td>C</td>\n",
       "      <td>Southampton</td>\n",
       "      <td>0</td>\n",
       "    </tr>\n",
       "    <tr>\n",
       "      <th>4</th>\n",
       "      <td>4</td>\n",
       "      <td>0</td>\n",
       "      <td>3</td>\n",
       "      <td>male</td>\n",
       "      <td>35.0</td>\n",
       "      <td>0</td>\n",
       "      <td>0</td>\n",
       "      <td>8.0500</td>\n",
       "      <td>S</td>\n",
       "      <td>Third</td>\n",
       "      <td>NaN</td>\n",
       "      <td>Southampton</td>\n",
       "      <td>1</td>\n",
       "    </tr>\n",
       "  </tbody>\n",
       "</table>\n",
       "</div>"
      ],
      "text/plain": [
       "   passenger_id  survived  pclass     sex   age  sibsp  parch     fare  \\\n",
       "0             0         0       3    male  22.0      1      0   7.2500   \n",
       "1             1         1       1  female  38.0      1      0  71.2833   \n",
       "2             2         1       3  female  26.0      0      0   7.9250   \n",
       "3             3         1       1  female  35.0      1      0  53.1000   \n",
       "4             4         0       3    male  35.0      0      0   8.0500   \n",
       "\n",
       "  embarked  class deck  embark_town  alone  \n",
       "0        S  Third  NaN  Southampton      0  \n",
       "1        C  First    C    Cherbourg      0  \n",
       "2        S  Third  NaN  Southampton      1  \n",
       "3        S  First    C  Southampton      0  \n",
       "4        S  Third  NaN  Southampton      1  "
      ]
     },
     "execution_count": 2,
     "metadata": {},
     "output_type": "execute_result"
    }
   ],
   "source": [
    "# acquire data\n",
    "titanic_original = acquire.get_titanic_data()\n",
    "\n",
    "# peek into data\n",
    "titanic_original.head()"
   ]
  },
  {
   "cell_type": "code",
   "execution_count": 3,
   "id": "f7ba0051",
   "metadata": {},
   "outputs": [
    {
     "data": {
      "text/html": [
       "<div>\n",
       "<style scoped>\n",
       "    .dataframe tbody tr th:only-of-type {\n",
       "        vertical-align: middle;\n",
       "    }\n",
       "\n",
       "    .dataframe tbody tr th {\n",
       "        vertical-align: top;\n",
       "    }\n",
       "\n",
       "    .dataframe thead th {\n",
       "        text-align: right;\n",
       "    }\n",
       "</style>\n",
       "<table border=\"1\" class=\"dataframe\">\n",
       "  <thead>\n",
       "    <tr style=\"text-align: right;\">\n",
       "      <th></th>\n",
       "      <th>survived</th>\n",
       "      <th>pclass</th>\n",
       "      <th>sibsp</th>\n",
       "      <th>parch</th>\n",
       "      <th>fare</th>\n",
       "      <th>alone</th>\n",
       "      <th>sex_male</th>\n",
       "      <th>embark_town_Queenstown</th>\n",
       "      <th>embark_town_Southampton</th>\n",
       "    </tr>\n",
       "  </thead>\n",
       "  <tbody>\n",
       "    <tr>\n",
       "      <th>0</th>\n",
       "      <td>0</td>\n",
       "      <td>3</td>\n",
       "      <td>1</td>\n",
       "      <td>0</td>\n",
       "      <td>7.2500</td>\n",
       "      <td>0</td>\n",
       "      <td>1</td>\n",
       "      <td>0</td>\n",
       "      <td>1</td>\n",
       "    </tr>\n",
       "    <tr>\n",
       "      <th>1</th>\n",
       "      <td>1</td>\n",
       "      <td>1</td>\n",
       "      <td>1</td>\n",
       "      <td>0</td>\n",
       "      <td>71.2833</td>\n",
       "      <td>0</td>\n",
       "      <td>0</td>\n",
       "      <td>0</td>\n",
       "      <td>0</td>\n",
       "    </tr>\n",
       "    <tr>\n",
       "      <th>2</th>\n",
       "      <td>1</td>\n",
       "      <td>3</td>\n",
       "      <td>0</td>\n",
       "      <td>0</td>\n",
       "      <td>7.9250</td>\n",
       "      <td>1</td>\n",
       "      <td>0</td>\n",
       "      <td>0</td>\n",
       "      <td>1</td>\n",
       "    </tr>\n",
       "    <tr>\n",
       "      <th>3</th>\n",
       "      <td>1</td>\n",
       "      <td>1</td>\n",
       "      <td>1</td>\n",
       "      <td>0</td>\n",
       "      <td>53.1000</td>\n",
       "      <td>0</td>\n",
       "      <td>0</td>\n",
       "      <td>0</td>\n",
       "      <td>1</td>\n",
       "    </tr>\n",
       "    <tr>\n",
       "      <th>4</th>\n",
       "      <td>0</td>\n",
       "      <td>3</td>\n",
       "      <td>0</td>\n",
       "      <td>0</td>\n",
       "      <td>8.0500</td>\n",
       "      <td>1</td>\n",
       "      <td>1</td>\n",
       "      <td>0</td>\n",
       "      <td>1</td>\n",
       "    </tr>\n",
       "  </tbody>\n",
       "</table>\n",
       "</div>"
      ],
      "text/plain": [
       "   survived  pclass  sibsp  parch     fare  alone  sex_male  \\\n",
       "0         0       3      1      0   7.2500      0         1   \n",
       "1         1       1      1      0  71.2833      0         0   \n",
       "2         1       3      0      0   7.9250      1         0   \n",
       "3         1       1      1      0  53.1000      0         0   \n",
       "4         0       3      0      0   8.0500      1         1   \n",
       "\n",
       "   embark_town_Queenstown  embark_town_Southampton  \n",
       "0                       0                        1  \n",
       "1                       0                        0  \n",
       "2                       0                        1  \n",
       "3                       0                        1  \n",
       "4                       0                        1  "
      ]
     },
     "execution_count": 3,
     "metadata": {},
     "output_type": "execute_result"
    }
   ],
   "source": [
    "# clean data\n",
    "titanic_clean = prepare.prep_titanic(titanic_original)\n",
    "\n",
    "# peek into data\n",
    "titanic_clean.head()"
   ]
  },
  {
   "cell_type": "code",
   "execution_count": 4,
   "id": "27584927",
   "metadata": {},
   "outputs": [
    {
     "data": {
      "text/html": [
       "<div>\n",
       "<style scoped>\n",
       "    .dataframe tbody tr th:only-of-type {\n",
       "        vertical-align: middle;\n",
       "    }\n",
       "\n",
       "    .dataframe tbody tr th {\n",
       "        vertical-align: top;\n",
       "    }\n",
       "\n",
       "    .dataframe thead th {\n",
       "        text-align: right;\n",
       "    }\n",
       "</style>\n",
       "<table border=\"1\" class=\"dataframe\">\n",
       "  <thead>\n",
       "    <tr style=\"text-align: right;\">\n",
       "      <th></th>\n",
       "      <th>survived</th>\n",
       "      <th>pclass</th>\n",
       "      <th>sibsp</th>\n",
       "      <th>parch</th>\n",
       "      <th>fare</th>\n",
       "      <th>alone</th>\n",
       "      <th>sex_male</th>\n",
       "      <th>embark_town_Queenstown</th>\n",
       "      <th>embark_town_Southampton</th>\n",
       "    </tr>\n",
       "  </thead>\n",
       "  <tbody>\n",
       "    <tr>\n",
       "      <th>0</th>\n",
       "      <td>0</td>\n",
       "      <td>3</td>\n",
       "      <td>1</td>\n",
       "      <td>0</td>\n",
       "      <td>7.2500</td>\n",
       "      <td>0</td>\n",
       "      <td>1</td>\n",
       "      <td>0</td>\n",
       "      <td>1</td>\n",
       "    </tr>\n",
       "    <tr>\n",
       "      <th>1</th>\n",
       "      <td>1</td>\n",
       "      <td>1</td>\n",
       "      <td>1</td>\n",
       "      <td>0</td>\n",
       "      <td>71.2833</td>\n",
       "      <td>0</td>\n",
       "      <td>0</td>\n",
       "      <td>0</td>\n",
       "      <td>0</td>\n",
       "    </tr>\n",
       "    <tr>\n",
       "      <th>2</th>\n",
       "      <td>1</td>\n",
       "      <td>3</td>\n",
       "      <td>0</td>\n",
       "      <td>0</td>\n",
       "      <td>7.9250</td>\n",
       "      <td>1</td>\n",
       "      <td>0</td>\n",
       "      <td>0</td>\n",
       "      <td>1</td>\n",
       "    </tr>\n",
       "    <tr>\n",
       "      <th>3</th>\n",
       "      <td>1</td>\n",
       "      <td>1</td>\n",
       "      <td>1</td>\n",
       "      <td>0</td>\n",
       "      <td>53.1000</td>\n",
       "      <td>0</td>\n",
       "      <td>0</td>\n",
       "      <td>0</td>\n",
       "      <td>1</td>\n",
       "    </tr>\n",
       "    <tr>\n",
       "      <th>4</th>\n",
       "      <td>0</td>\n",
       "      <td>3</td>\n",
       "      <td>0</td>\n",
       "      <td>0</td>\n",
       "      <td>8.0500</td>\n",
       "      <td>1</td>\n",
       "      <td>1</td>\n",
       "      <td>0</td>\n",
       "      <td>1</td>\n",
       "    </tr>\n",
       "  </tbody>\n",
       "</table>\n",
       "</div>"
      ],
      "text/plain": [
       "   survived  pclass  sibsp  parch     fare  alone  sex_male  \\\n",
       "0         0       3      1      0   7.2500      0         1   \n",
       "1         1       1      1      0  71.2833      0         0   \n",
       "2         1       3      0      0   7.9250      1         0   \n",
       "3         1       1      1      0  53.1000      0         0   \n",
       "4         0       3      0      0   8.0500      1         1   \n",
       "\n",
       "   embark_town_Queenstown  embark_town_Southampton  \n",
       "0                       0                        1  \n",
       "1                       0                        0  \n",
       "2                       0                        1  \n",
       "3                       0                        1  \n",
       "4                       0                        1  "
      ]
     },
     "execution_count": 4,
     "metadata": {},
     "output_type": "execute_result"
    }
   ],
   "source": [
    "# peek into data\n",
    "titanic_clean.head()"
   ]
  },
  {
   "cell_type": "code",
   "execution_count": 5,
   "id": "a0d4c2ba",
   "metadata": {},
   "outputs": [
    {
     "name": "stdout",
     "output_type": "stream",
     "text": [
      "<class 'pandas.core.frame.DataFrame'>\n",
      "RangeIndex: 891 entries, 0 to 890\n",
      "Data columns (total 9 columns):\n",
      " #   Column                   Non-Null Count  Dtype  \n",
      "---  ------                   --------------  -----  \n",
      " 0   survived                 891 non-null    int64  \n",
      " 1   pclass                   891 non-null    int64  \n",
      " 2   sibsp                    891 non-null    int64  \n",
      " 3   parch                    891 non-null    int64  \n",
      " 4   fare                     891 non-null    float64\n",
      " 5   alone                    891 non-null    int64  \n",
      " 6   sex_male                 891 non-null    uint8  \n",
      " 7   embark_town_Queenstown   891 non-null    uint8  \n",
      " 8   embark_town_Southampton  891 non-null    uint8  \n",
      "dtypes: float64(1), int64(5), uint8(3)\n",
      "memory usage: 44.5 KB\n"
     ]
    }
   ],
   "source": [
    "#check to see if columns data types are float or int\n",
    "titanic_clean.info()"
   ]
  },
  {
   "cell_type": "code",
   "execution_count": 6,
   "id": "ef238b58",
   "metadata": {},
   "outputs": [
    {
     "data": {
      "text/plain": [
       "((498, 9), (214, 9), (179, 9))"
      ]
     },
     "execution_count": 6,
     "metadata": {},
     "output_type": "execute_result"
    }
   ],
   "source": [
    "# split data using funciton form prepare module \n",
    "train, val, test = prepare.train_validate_test_split(titanic_clean, 'survived')\n",
    "\n",
    "# get shape of train, validate and test data\n",
    "train.shape, val.shape, test.shape"
   ]
  },
  {
   "cell_type": "code",
   "execution_count": 7,
   "id": "c7e0e874",
   "metadata": {},
   "outputs": [],
   "source": [
    "# create labels \n",
    "X_train = train.drop(columns = ['survived'])\n",
    "y_train = train['survived']\n",
    "\n",
    "X_val =val.drop(columns = ['survived'])\n",
    "y_val = val['survived']\n",
    "\n",
    "X_test = test.drop(columns = ['survived'])\n",
    "y_test = test['survived']"
   ]
  },
  {
   "cell_type": "code",
   "execution_count": 8,
   "id": "136ccfa8",
   "metadata": {},
   "outputs": [
    {
     "data": {
      "text/plain": [
       "0    307\n",
       "1    191\n",
       "Name: survived, dtype: int64"
      ]
     },
     "execution_count": 8,
     "metadata": {},
     "output_type": "execute_result"
    }
   ],
   "source": [
    "# to find baseling, find most common classes\n",
    "y_train.value_counts()"
   ]
  },
  {
   "cell_type": "code",
   "execution_count": 9,
   "id": "048195c1",
   "metadata": {},
   "outputs": [],
   "source": [
    "# assign most common class to baseline prediction\n",
    "baseline_prediction = 0"
   ]
  },
  {
   "cell_type": "code",
   "execution_count": 10,
   "id": "70b2607e",
   "metadata": {},
   "outputs": [
    {
     "data": {
      "text/plain": [
       "0.6164658634538153"
      ]
     },
     "execution_count": 10,
     "metadata": {},
     "output_type": "execute_result"
    }
   ],
   "source": [
    "# compare baseline with y_train class to get most common class and get mean\n",
    "baseline_accuracy = (y_train==baseline_prediction).mean()\n",
    "baseline_accuracy"
   ]
  },
  {
   "cell_type": "code",
   "execution_count": 11,
   "id": "1204e082",
   "metadata": {},
   "outputs": [
    {
     "data": {
      "text/plain": [
       "0.6164658634538153"
      ]
     },
     "execution_count": 11,
     "metadata": {},
     "output_type": "execute_result"
    }
   ],
   "source": [
    "# alternate way to get baseline accuracy\n",
    "baseline_prediction = y_train.mode()\n",
    "match_baseline = (y_train==0)\n",
    "baseline_accuracy = match_baseline.mean()\n",
    "baseline_accuracy"
   ]
  },
  {
   "cell_type": "code",
   "execution_count": 12,
   "id": "13fc9115",
   "metadata": {},
   "outputs": [],
   "source": [
    "# create decision tree\n",
    "seed = 42\n",
    "\n",
    "clf = DecisionTreeClassifier(max_depth=3, random_state= 42)"
   ]
  },
  {
   "cell_type": "code",
   "execution_count": 13,
   "id": "62862487",
   "metadata": {},
   "outputs": [
    {
     "data": {
      "text/html": [
       "<style>#sk-container-id-1 {color: black;background-color: white;}#sk-container-id-1 pre{padding: 0;}#sk-container-id-1 div.sk-toggleable {background-color: white;}#sk-container-id-1 label.sk-toggleable__label {cursor: pointer;display: block;width: 100%;margin-bottom: 0;padding: 0.3em;box-sizing: border-box;text-align: center;}#sk-container-id-1 label.sk-toggleable__label-arrow:before {content: \"▸\";float: left;margin-right: 0.25em;color: #696969;}#sk-container-id-1 label.sk-toggleable__label-arrow:hover:before {color: black;}#sk-container-id-1 div.sk-estimator:hover label.sk-toggleable__label-arrow:before {color: black;}#sk-container-id-1 div.sk-toggleable__content {max-height: 0;max-width: 0;overflow: hidden;text-align: left;background-color: #f0f8ff;}#sk-container-id-1 div.sk-toggleable__content pre {margin: 0.2em;color: black;border-radius: 0.25em;background-color: #f0f8ff;}#sk-container-id-1 input.sk-toggleable__control:checked~div.sk-toggleable__content {max-height: 200px;max-width: 100%;overflow: auto;}#sk-container-id-1 input.sk-toggleable__control:checked~label.sk-toggleable__label-arrow:before {content: \"▾\";}#sk-container-id-1 div.sk-estimator input.sk-toggleable__control:checked~label.sk-toggleable__label {background-color: #d4ebff;}#sk-container-id-1 div.sk-label input.sk-toggleable__control:checked~label.sk-toggleable__label {background-color: #d4ebff;}#sk-container-id-1 input.sk-hidden--visually {border: 0;clip: rect(1px 1px 1px 1px);clip: rect(1px, 1px, 1px, 1px);height: 1px;margin: -1px;overflow: hidden;padding: 0;position: absolute;width: 1px;}#sk-container-id-1 div.sk-estimator {font-family: monospace;background-color: #f0f8ff;border: 1px dotted black;border-radius: 0.25em;box-sizing: border-box;margin-bottom: 0.5em;}#sk-container-id-1 div.sk-estimator:hover {background-color: #d4ebff;}#sk-container-id-1 div.sk-parallel-item::after {content: \"\";width: 100%;border-bottom: 1px solid gray;flex-grow: 1;}#sk-container-id-1 div.sk-label:hover label.sk-toggleable__label {background-color: #d4ebff;}#sk-container-id-1 div.sk-serial::before {content: \"\";position: absolute;border-left: 1px solid gray;box-sizing: border-box;top: 0;bottom: 0;left: 50%;z-index: 0;}#sk-container-id-1 div.sk-serial {display: flex;flex-direction: column;align-items: center;background-color: white;padding-right: 0.2em;padding-left: 0.2em;position: relative;}#sk-container-id-1 div.sk-item {position: relative;z-index: 1;}#sk-container-id-1 div.sk-parallel {display: flex;align-items: stretch;justify-content: center;background-color: white;position: relative;}#sk-container-id-1 div.sk-item::before, #sk-container-id-1 div.sk-parallel-item::before {content: \"\";position: absolute;border-left: 1px solid gray;box-sizing: border-box;top: 0;bottom: 0;left: 50%;z-index: -1;}#sk-container-id-1 div.sk-parallel-item {display: flex;flex-direction: column;z-index: 1;position: relative;background-color: white;}#sk-container-id-1 div.sk-parallel-item:first-child::after {align-self: flex-end;width: 50%;}#sk-container-id-1 div.sk-parallel-item:last-child::after {align-self: flex-start;width: 50%;}#sk-container-id-1 div.sk-parallel-item:only-child::after {width: 0;}#sk-container-id-1 div.sk-dashed-wrapped {border: 1px dashed gray;margin: 0 0.4em 0.5em 0.4em;box-sizing: border-box;padding-bottom: 0.4em;background-color: white;}#sk-container-id-1 div.sk-label label {font-family: monospace;font-weight: bold;display: inline-block;line-height: 1.2em;}#sk-container-id-1 div.sk-label-container {text-align: center;}#sk-container-id-1 div.sk-container {/* jupyter's `normalize.less` sets `[hidden] { display: none; }` but bootstrap.min.css set `[hidden] { display: none !important; }` so we also need the `!important` here to be able to override the default hidden behavior on the sphinx rendered scikit-learn.org. See: https://github.com/scikit-learn/scikit-learn/issues/21755 */display: inline-block !important;position: relative;}#sk-container-id-1 div.sk-text-repr-fallback {display: none;}</style><div id=\"sk-container-id-1\" class=\"sk-top-container\"><div class=\"sk-text-repr-fallback\"><pre>DecisionTreeClassifier(max_depth=3, random_state=42)</pre><b>In a Jupyter environment, please rerun this cell to show the HTML representation or trust the notebook. <br />On GitHub, the HTML representation is unable to render, please try loading this page with nbviewer.org.</b></div><div class=\"sk-container\" hidden><div class=\"sk-item\"><div class=\"sk-estimator sk-toggleable\"><input class=\"sk-toggleable__control sk-hidden--visually\" id=\"sk-estimator-id-1\" type=\"checkbox\" checked><label for=\"sk-estimator-id-1\" class=\"sk-toggleable__label sk-toggleable__label-arrow\">DecisionTreeClassifier</label><div class=\"sk-toggleable__content\"><pre>DecisionTreeClassifier(max_depth=3, random_state=42)</pre></div></div></div></div></div>"
      ],
      "text/plain": [
       "DecisionTreeClassifier(max_depth=3, random_state=42)"
      ]
     },
     "execution_count": 13,
     "metadata": {},
     "output_type": "execute_result"
    }
   ],
   "source": [
    "# fit the model to training data\n",
    "clf.fit(X_train, y_train)"
   ]
  },
  {
   "cell_type": "code",
   "execution_count": 14,
   "id": "94b98e4c",
   "metadata": {},
   "outputs": [
    {
     "data": {
      "text/plain": [
       "0.8112449799196787"
      ]
     },
     "execution_count": 14,
     "metadata": {},
     "output_type": "execute_result"
    }
   ],
   "source": [
    "# accuracy score on train\n",
    "clf.score(X_train, y_train)"
   ]
  },
  {
   "cell_type": "code",
   "execution_count": 15,
   "id": "80fadbc6",
   "metadata": {},
   "outputs": [
    {
     "data": {
      "text/plain": [
       "0.8271028037383178"
      ]
     },
     "execution_count": 15,
     "metadata": {},
     "output_type": "execute_result"
    }
   ],
   "source": [
    "# accuracy score on val\n",
    "clf.score(X_val, y_val)"
   ]
  },
  {
   "cell_type": "code",
   "execution_count": 16,
   "id": "14e0443b",
   "metadata": {},
   "outputs": [],
   "source": [
    "# train predictions \n",
    "train_preds = clf.predict(X_train)"
   ]
  },
  {
   "cell_type": "code",
   "execution_count": 17,
   "id": "ee6fe30d",
   "metadata": {},
   "outputs": [],
   "source": [
    "# validate predictions\n",
    "val_preds = clf.predict(X_val)"
   ]
  },
  {
   "cell_type": "code",
   "execution_count": 18,
   "id": "37a5e286",
   "metadata": {},
   "outputs": [],
   "source": [
    "# class_names = np.array(clf.classes_).astype('str').tolist()"
   ]
  },
  {
   "cell_type": "code",
   "execution_count": 19,
   "id": "294a10d1",
   "metadata": {},
   "outputs": [
    {
     "data": {
      "text/plain": [
       "[Text(0.5, 0.875, 'sex_male <= 0.5\\ngini = 0.473\\nsamples = 498\\nvalue = [307, 191]\\nclass = 0'),\n",
       " Text(0.25, 0.625, 'pclass <= 2.5\\ngini = 0.383\\nsamples = 178\\nvalue = [46, 132]\\nclass = 1'),\n",
       " Text(0.125, 0.375, 'fare <= 28.856\\ngini = 0.104\\nsamples = 91\\nvalue = [5, 86]\\nclass = 1'),\n",
       " Text(0.0625, 0.125, 'gini = 0.245\\nsamples = 35\\nvalue = [5, 30]\\nclass = 1'),\n",
       " Text(0.1875, 0.125, 'gini = 0.0\\nsamples = 56\\nvalue = [0, 56]\\nclass = 1'),\n",
       " Text(0.375, 0.375, 'embark_town_Southampton <= 0.5\\ngini = 0.498\\nsamples = 87\\nvalue = [41, 46]\\nclass = 1'),\n",
       " Text(0.3125, 0.125, 'gini = 0.401\\nsamples = 36\\nvalue = [10, 26]\\nclass = 1'),\n",
       " Text(0.4375, 0.125, 'gini = 0.477\\nsamples = 51\\nvalue = [31, 20]\\nclass = 0'),\n",
       " Text(0.75, 0.625, 'pclass <= 1.5\\ngini = 0.301\\nsamples = 320\\nvalue = [261, 59]\\nclass = 0'),\n",
       " Text(0.625, 0.375, 'fare <= 26.144\\ngini = 0.476\\nsamples = 64\\nvalue = [39, 25]\\nclass = 0'),\n",
       " Text(0.5625, 0.125, 'gini = 0.0\\nsamples = 8\\nvalue = [8, 0]\\nclass = 0'),\n",
       " Text(0.6875, 0.125, 'gini = 0.494\\nsamples = 56\\nvalue = [31, 25]\\nclass = 0'),\n",
       " Text(0.875, 0.375, 'fare <= 7.742\\ngini = 0.23\\nsamples = 256\\nvalue = [222, 34]\\nclass = 0'),\n",
       " Text(0.8125, 0.125, 'gini = 0.043\\nsamples = 45\\nvalue = [44, 1]\\nclass = 0'),\n",
       " Text(0.9375, 0.125, 'gini = 0.264\\nsamples = 211\\nvalue = [178, 33]\\nclass = 0')]"
      ]
     },
     "execution_count": 19,
     "metadata": {},
     "output_type": "execute_result"
    },
    {
     "data": {
      "image/png": "[encoded data removed]",
      "text/plain": [
       "<Figure size 2000x1400 with 1 Axes>"
      ]
     },
     "metadata": {},
     "output_type": "display_data"
    }
   ],
   "source": [
    "# visualize a decision tree\n",
    "plt.figure(figsize=(20,14))\n",
    "\n",
    "plot_tree(clf, feature_names = X_train.columns, class_names = np.array(clf.classes_).astype('str').tolist(), rounded=True)"
   ]
  },
  {
   "cell_type": "code",
   "execution_count": 20,
   "id": "2fd0236a",
   "metadata": {},
   "outputs": [],
   "source": [
    "# make prediction on train observations\n",
    "val_preds = clf.predict(X_val)"
   ]
  },
  {
   "cell_type": "code",
   "execution_count": 21,
   "id": "76c1a228",
   "metadata": {},
   "outputs": [
    {
     "data": {
      "text/plain": [
       "array([[127,   5],\n",
       "       [ 32,  50]])"
      ]
     },
     "execution_count": 21,
     "metadata": {},
     "output_type": "execute_result"
    }
   ],
   "source": [
    "# confusion matrix\n",
    "confusion_matrix(y_val ,val_preds)"
   ]
  },
  {
   "cell_type": "code",
   "execution_count": 22,
   "id": "bf3744fd",
   "metadata": {},
   "outputs": [
    {
     "name": "stdout",
     "output_type": "stream",
     "text": [
      "              precision    recall  f1-score   support\n",
      "\n",
      "           0       0.80      0.96      0.87       132\n",
      "           1       0.91      0.61      0.73        82\n",
      "\n",
      "    accuracy                           0.83       214\n",
      "   macro avg       0.85      0.79      0.80       214\n",
      "weighted avg       0.84      0.83      0.82       214\n",
      "\n"
     ]
    }
   ],
   "source": [
    "# classification report on val\n",
    "print(classification_report(y_val, val_preds))"
   ]
  },
  {
   "cell_type": "code",
   "execution_count": 23,
   "id": "1d36f0de",
   "metadata": {},
   "outputs": [
    {
     "data": {
      "text/plain": [
       "(292, 15, 79, 112)"
      ]
     },
     "execution_count": 23,
     "metadata": {},
     "output_type": "execute_result"
    }
   ],
   "source": [
    "# calculate truenegative, falsepositive, falsenegative,truepositive \n",
    "TN, FP, FN, TP = confusion_matrix(y_train, train_preds).ravel()\n",
    "TN, FP, FN, TP"
   ]
  },
  {
   "cell_type": "code",
   "execution_count": 24,
   "id": "1ba55942",
   "metadata": {},
   "outputs": [
    {
     "data": {
      "text/plain": [
       "0.8112449799196787"
      ]
     },
     "execution_count": 24,
     "metadata": {},
     "output_type": "execute_result"
    }
   ],
   "source": [
    "# accuracy\n",
    "ALL = TP + FP + FN + TN\n",
    "acc = (TP + TN) / ALL\n",
    "acc"
   ]
  },
  {
   "cell_type": "code",
   "execution_count": 25,
   "id": "dcd4403b",
   "metadata": {},
   "outputs": [
    {
     "data": {
      "text/plain": [
       "0.8818897637795275"
      ]
     },
     "execution_count": 25,
     "metadata": {},
     "output_type": "execute_result"
    }
   ],
   "source": [
    "# true positive rate or precision\n",
    "precision = TPR = TP / (TP + FP)\n",
    "precision"
   ]
  },
  {
   "cell_type": "code",
   "execution_count": 26,
   "id": "1eddc36b",
   "metadata": {},
   "outputs": [
    {
     "data": {
      "text/plain": [
       "0.048859934853420196"
      ]
     },
     "execution_count": 26,
     "metadata": {},
     "output_type": "execute_result"
    }
   ],
   "source": [
    "# false positive rate\n",
    "FPR = FP / (FP + TN)\n",
    "FPR "
   ]
  },
  {
   "cell_type": "code",
   "execution_count": 27,
   "id": "74dfb1e5",
   "metadata": {},
   "outputs": [
    {
     "data": {
      "text/plain": [
       "0.9511400651465798"
      ]
     },
     "execution_count": 27,
     "metadata": {},
     "output_type": "execute_result"
    }
   ],
   "source": [
    "# true neagative rate\n",
    "TNR = TN / (TN + FP)\n",
    "TNR "
   ]
  },
  {
   "cell_type": "code",
   "execution_count": 28,
   "id": "1b44475a",
   "metadata": {},
   "outputs": [],
   "source": [
    "# false negative rate\n",
    "FNR = FN / (FN + TP)"
   ]
  },
  {
   "cell_type": "code",
   "execution_count": 29,
   "id": "bf8a55ae",
   "metadata": {},
   "outputs": [
    {
     "data": {
      "text/plain": [
       "0.5863874345549738"
      ]
     },
     "execution_count": 29,
     "metadata": {},
     "output_type": "execute_result"
    }
   ],
   "source": [
    "# recall\n",
    "recall = TP / (TP + FN)\n",
    "recall"
   ]
  },
  {
   "cell_type": "code",
   "execution_count": 30,
   "id": "cee232cb",
   "metadata": {},
   "outputs": [
    {
     "data": {
      "text/plain": [
       "0.7044025157232704"
      ]
     },
     "execution_count": 30,
     "metadata": {},
     "output_type": "execute_result"
    }
   ],
   "source": [
    "# f1-score\n",
    "f1_score = 2 * (precision*recall) / (precision+recall)\n",
    "f1_score"
   ]
  },
  {
   "cell_type": "code",
   "execution_count": 31,
   "id": "67192184",
   "metadata": {},
   "outputs": [
    {
     "data": {
      "text/plain": [
       "(191, 307)"
      ]
     },
     "execution_count": 31,
     "metadata": {},
     "output_type": "execute_result"
    }
   ],
   "source": [
    "# support\n",
    "support_pos = TP + FN\n",
    "support_neg = FP + TN\n",
    "support_pos, support_neg"
   ]
  },
  {
   "cell_type": "markdown",
   "id": "ba592c98",
   "metadata": {},
   "source": [
    "#### 5. Run through steps 2-4 using a different max_depth value."
   ]
  },
  {
   "cell_type": "code",
   "execution_count": 32,
   "id": "4d235d75",
   "metadata": {},
   "outputs": [],
   "source": [
    "# create decision tree with max_depth=4\n",
    "\n",
    "seed = 42\n",
    "\n",
    "clf2 = DecisionTreeClassifier(max_depth=4, random_state= 42)"
   ]
  },
  {
   "cell_type": "code",
   "execution_count": 33,
   "id": "0996e3db",
   "metadata": {
    "scrolled": true
   },
   "outputs": [
    {
     "data": {
      "text/html": [
       "<style>#sk-container-id-2 {color: black;background-color: white;}#sk-container-id-2 pre{padding: 0;}#sk-container-id-2 div.sk-toggleable {background-color: white;}#sk-container-id-2 label.sk-toggleable__label {cursor: pointer;display: block;width: 100%;margin-bottom: 0;padding: 0.3em;box-sizing: border-box;text-align: center;}#sk-container-id-2 label.sk-toggleable__label-arrow:before {content: \"▸\";float: left;margin-right: 0.25em;color: #696969;}#sk-container-id-2 label.sk-toggleable__label-arrow:hover:before {color: black;}#sk-container-id-2 div.sk-estimator:hover label.sk-toggleable__label-arrow:before {color: black;}#sk-container-id-2 div.sk-toggleable__content {max-height: 0;max-width: 0;overflow: hidden;text-align: left;background-color: #f0f8ff;}#sk-container-id-2 div.sk-toggleable__content pre {margin: 0.2em;color: black;border-radius: 0.25em;background-color: #f0f8ff;}#sk-container-id-2 input.sk-toggleable__control:checked~div.sk-toggleable__content {max-height: 200px;max-width: 100%;overflow: auto;}#sk-container-id-2 input.sk-toggleable__control:checked~label.sk-toggleable__label-arrow:before {content: \"▾\";}#sk-container-id-2 div.sk-estimator input.sk-toggleable__control:checked~label.sk-toggleable__label {background-color: #d4ebff;}#sk-container-id-2 div.sk-label input.sk-toggleable__control:checked~label.sk-toggleable__label {background-color: #d4ebff;}#sk-container-id-2 input.sk-hidden--visually {border: 0;clip: rect(1px 1px 1px 1px);clip: rect(1px, 1px, 1px, 1px);height: 1px;margin: -1px;overflow: hidden;padding: 0;position: absolute;width: 1px;}#sk-container-id-2 div.sk-estimator {font-family: monospace;background-color: #f0f8ff;border: 1px dotted black;border-radius: 0.25em;box-sizing: border-box;margin-bottom: 0.5em;}#sk-container-id-2 div.sk-estimator:hover {background-color: #d4ebff;}#sk-container-id-2 div.sk-parallel-item::after {content: \"\";width: 100%;border-bottom: 1px solid gray;flex-grow: 1;}#sk-container-id-2 div.sk-label:hover label.sk-toggleable__label {background-color: #d4ebff;}#sk-container-id-2 div.sk-serial::before {content: \"\";position: absolute;border-left: 1px solid gray;box-sizing: border-box;top: 0;bottom: 0;left: 50%;z-index: 0;}#sk-container-id-2 div.sk-serial {display: flex;flex-direction: column;align-items: center;background-color: white;padding-right: 0.2em;padding-left: 0.2em;position: relative;}#sk-container-id-2 div.sk-item {position: relative;z-index: 1;}#sk-container-id-2 div.sk-parallel {display: flex;align-items: stretch;justify-content: center;background-color: white;position: relative;}#sk-container-id-2 div.sk-item::before, #sk-container-id-2 div.sk-parallel-item::before {content: \"\";position: absolute;border-left: 1px solid gray;box-sizing: border-box;top: 0;bottom: 0;left: 50%;z-index: -1;}#sk-container-id-2 div.sk-parallel-item {display: flex;flex-direction: column;z-index: 1;position: relative;background-color: white;}#sk-container-id-2 div.sk-parallel-item:first-child::after {align-self: flex-end;width: 50%;}#sk-container-id-2 div.sk-parallel-item:last-child::after {align-self: flex-start;width: 50%;}#sk-container-id-2 div.sk-parallel-item:only-child::after {width: 0;}#sk-container-id-2 div.sk-dashed-wrapped {border: 1px dashed gray;margin: 0 0.4em 0.5em 0.4em;box-sizing: border-box;padding-bottom: 0.4em;background-color: white;}#sk-container-id-2 div.sk-label label {font-family: monospace;font-weight: bold;display: inline-block;line-height: 1.2em;}#sk-container-id-2 div.sk-label-container {text-align: center;}#sk-container-id-2 div.sk-container {/* jupyter's `normalize.less` sets `[hidden] { display: none; }` but bootstrap.min.css set `[hidden] { display: none !important; }` so we also need the `!important` here to be able to override the default hidden behavior on the sphinx rendered scikit-learn.org. See: https://github.com/scikit-learn/scikit-learn/issues/21755 */display: inline-block !important;position: relative;}#sk-container-id-2 div.sk-text-repr-fallback {display: none;}</style><div id=\"sk-container-id-2\" class=\"sk-top-container\"><div class=\"sk-text-repr-fallback\"><pre>DecisionTreeClassifier(max_depth=4, random_state=42)</pre><b>In a Jupyter environment, please rerun this cell to show the HTML representation or trust the notebook. <br />On GitHub, the HTML representation is unable to render, please try loading this page with nbviewer.org.</b></div><div class=\"sk-container\" hidden><div class=\"sk-item\"><div class=\"sk-estimator sk-toggleable\"><input class=\"sk-toggleable__control sk-hidden--visually\" id=\"sk-estimator-id-2\" type=\"checkbox\" checked><label for=\"sk-estimator-id-2\" class=\"sk-toggleable__label sk-toggleable__label-arrow\">DecisionTreeClassifier</label><div class=\"sk-toggleable__content\"><pre>DecisionTreeClassifier(max_depth=4, random_state=42)</pre></div></div></div></div></div>"
      ],
      "text/plain": [
       "DecisionTreeClassifier(max_depth=4, random_state=42)"
      ]
     },
     "execution_count": 33,
     "metadata": {},
     "output_type": "execute_result"
    }
   ],
   "source": [
    "# fit the model to training data\n",
    "clf2.fit(X_train, y_train)"
   ]
  },
  {
   "cell_type": "code",
   "execution_count": 34,
   "id": "b11c62da",
   "metadata": {},
   "outputs": [
    {
     "data": {
      "text/plain": [
       "0.8253012048192772"
      ]
     },
     "execution_count": 34,
     "metadata": {},
     "output_type": "execute_result"
    }
   ],
   "source": [
    "# accuracy score on train\n",
    "clf2.score(X_train, y_train)"
   ]
  },
  {
   "cell_type": "code",
   "execution_count": 35,
   "id": "ac26aff9",
   "metadata": {},
   "outputs": [
    {
     "data": {
      "text/plain": [
       "0.8271028037383178"
      ]
     },
     "execution_count": 35,
     "metadata": {},
     "output_type": "execute_result"
    }
   ],
   "source": [
    "# accuracy score on val\n",
    "clf2.score(X_val, y_val)"
   ]
  },
  {
   "cell_type": "code",
   "execution_count": 36,
   "id": "739b6a31",
   "metadata": {},
   "outputs": [],
   "source": [
    "# train predictions \n",
    "train_preds = clf2.predict(X_train)"
   ]
  },
  {
   "cell_type": "code",
   "execution_count": 37,
   "id": "2737061c",
   "metadata": {},
   "outputs": [],
   "source": [
    "# validate predictions\n",
    "val_preds = clf2.predict(X_val)"
   ]
  },
  {
   "cell_type": "code",
   "execution_count": 38,
   "id": "1c3d4573",
   "metadata": {},
   "outputs": [
    {
     "data": {
      "text/plain": [
       "[Text(0.5, 0.875, 'sex_male <= 0.5\\ngini = 0.473\\nsamples = 498\\nvalue = [307, 191]\\nclass = 0'),\n",
       " Text(0.25, 0.625, 'pclass <= 2.5\\ngini = 0.383\\nsamples = 178\\nvalue = [46, 132]\\nclass = 1'),\n",
       " Text(0.125, 0.375, 'fare <= 28.856\\ngini = 0.104\\nsamples = 91\\nvalue = [5, 86]\\nclass = 1'),\n",
       " Text(0.0625, 0.125, 'gini = 0.245\\nsamples = 35\\nvalue = [5, 30]\\nclass = 1'),\n",
       " Text(0.1875, 0.125, 'gini = 0.0\\nsamples = 56\\nvalue = [0, 56]\\nclass = 1'),\n",
       " Text(0.375, 0.375, 'embark_town_Southampton <= 0.5\\ngini = 0.498\\nsamples = 87\\nvalue = [41, 46]\\nclass = 1'),\n",
       " Text(0.3125, 0.125, 'gini = 0.401\\nsamples = 36\\nvalue = [10, 26]\\nclass = 1'),\n",
       " Text(0.4375, 0.125, 'gini = 0.477\\nsamples = 51\\nvalue = [31, 20]\\nclass = 0'),\n",
       " Text(0.75, 0.625, 'pclass <= 1.5\\ngini = 0.301\\nsamples = 320\\nvalue = [261, 59]\\nclass = 0'),\n",
       " Text(0.625, 0.375, 'fare <= 26.144\\ngini = 0.476\\nsamples = 64\\nvalue = [39, 25]\\nclass = 0'),\n",
       " Text(0.5625, 0.125, 'gini = 0.0\\nsamples = 8\\nvalue = [8, 0]\\nclass = 0'),\n",
       " Text(0.6875, 0.125, 'gini = 0.494\\nsamples = 56\\nvalue = [31, 25]\\nclass = 0'),\n",
       " Text(0.875, 0.375, 'fare <= 7.742\\ngini = 0.23\\nsamples = 256\\nvalue = [222, 34]\\nclass = 0'),\n",
       " Text(0.8125, 0.125, 'gini = 0.043\\nsamples = 45\\nvalue = [44, 1]\\nclass = 0'),\n",
       " Text(0.9375, 0.125, 'gini = 0.264\\nsamples = 211\\nvalue = [178, 33]\\nclass = 0')]"
      ]
     },
     "execution_count": 38,
     "metadata": {},
     "output_type": "execute_result"
    },
    {
     "data": {
      "image/png": "[encoded data removed]",
      "text/plain": [
       "<Figure size 2000x1400 with 1 Axes>"
      ]
     },
     "metadata": {},
     "output_type": "display_data"
    }
   ],
   "source": [
    "# visualize a decision tree\n",
    "plt.figure(figsize=(20,14))\n",
    "\n",
    "plot_tree(clf, feature_names = X_train.columns, class_names = np.array(clf.classes_).astype('str').tolist(), rounded=True)"
   ]
  },
  {
   "cell_type": "code",
   "execution_count": 39,
   "id": "1ecc0b2e",
   "metadata": {},
   "outputs": [],
   "source": [
    "# make prediction on train observations\n",
    "val_preds_2 = clf2.predict(X_val)"
   ]
  },
  {
   "cell_type": "code",
   "execution_count": 40,
   "id": "8fa32018",
   "metadata": {},
   "outputs": [
    {
     "data": {
      "text/plain": [
       "array([[123,   9],\n",
       "       [ 28,  54]])"
      ]
     },
     "execution_count": 40,
     "metadata": {},
     "output_type": "execute_result"
    }
   ],
   "source": [
    "# confusion matrix of model2\n",
    "confusion_matrix(y_val ,val_preds_2)"
   ]
  },
  {
   "cell_type": "code",
   "execution_count": 41,
   "id": "9a9414d5",
   "metadata": {},
   "outputs": [
    {
     "name": "stdout",
     "output_type": "stream",
     "text": [
      "              precision    recall  f1-score   support\n",
      "\n",
      "           0       0.81      0.93      0.87       132\n",
      "           1       0.86      0.66      0.74        82\n",
      "\n",
      "    accuracy                           0.83       214\n",
      "   macro avg       0.84      0.80      0.81       214\n",
      "weighted avg       0.83      0.83      0.82       214\n",
      "\n"
     ]
    }
   ],
   "source": [
    "# classification report of model 2\n",
    "print(classification_report(y_val, val_preds_2))"
   ]
  },
  {
   "cell_type": "code",
   "execution_count": 42,
   "id": "3d0dcd2b",
   "metadata": {},
   "outputs": [
    {
     "data": {
      "text/plain": [
       "(287, 20, 67, 124)"
      ]
     },
     "execution_count": 42,
     "metadata": {},
     "output_type": "execute_result"
    }
   ],
   "source": [
    "# calculate truenegative, falsepositive, falsenegative,truepositive \n",
    "TN, FP, FN, TP = confusion_matrix(y_train, train_preds).ravel()\n",
    "TN, FP, FN, TP"
   ]
  },
  {
   "cell_type": "code",
   "execution_count": 43,
   "id": "9a7f6e08",
   "metadata": {},
   "outputs": [
    {
     "data": {
      "text/plain": [
       "0.8253012048192772"
      ]
     },
     "execution_count": 43,
     "metadata": {},
     "output_type": "execute_result"
    }
   ],
   "source": [
    "# accuracy\n",
    "ALL = TP + FP + FN + TN\n",
    "acc = (TP + TN) / ALL\n",
    "acc"
   ]
  },
  {
   "cell_type": "code",
   "execution_count": 44,
   "id": "39970157",
   "metadata": {},
   "outputs": [
    {
     "data": {
      "text/plain": [
       "0.8611111111111112"
      ]
     },
     "execution_count": 44,
     "metadata": {},
     "output_type": "execute_result"
    }
   ],
   "source": [
    "# true positive rate or precision\n",
    "precision = TPR = TP / (TP + FP)\n",
    "precision"
   ]
  },
  {
   "cell_type": "code",
   "execution_count": 45,
   "id": "7e6be6bf",
   "metadata": {},
   "outputs": [
    {
     "data": {
      "text/plain": [
       "0.06514657980456026"
      ]
     },
     "execution_count": 45,
     "metadata": {},
     "output_type": "execute_result"
    }
   ],
   "source": [
    "# false positive rate\n",
    "FPR = FP / (FP + TN)\n",
    "FPR "
   ]
  },
  {
   "cell_type": "code",
   "execution_count": 46,
   "id": "8a82c269",
   "metadata": {},
   "outputs": [
    {
     "data": {
      "text/plain": [
       "0.9348534201954397"
      ]
     },
     "execution_count": 46,
     "metadata": {},
     "output_type": "execute_result"
    }
   ],
   "source": [
    "# true neagative rate\n",
    "TNR = TN / (TN + FP)\n",
    "TNR "
   ]
  },
  {
   "cell_type": "code",
   "execution_count": 47,
   "id": "b2231477",
   "metadata": {},
   "outputs": [],
   "source": [
    "# false negative rate\n",
    "FNR = FN / (FN + TP)"
   ]
  },
  {
   "cell_type": "code",
   "execution_count": 48,
   "id": "77154168",
   "metadata": {},
   "outputs": [
    {
     "data": {
      "text/plain": [
       "0.6492146596858639"
      ]
     },
     "execution_count": 48,
     "metadata": {},
     "output_type": "execute_result"
    }
   ],
   "source": [
    "# recall\n",
    "recall = TP / (TP + FN)\n",
    "recall"
   ]
  },
  {
   "cell_type": "code",
   "execution_count": 49,
   "id": "2ae67c71",
   "metadata": {},
   "outputs": [
    {
     "data": {
      "text/plain": [
       "0.7402985074626867"
      ]
     },
     "execution_count": 49,
     "metadata": {},
     "output_type": "execute_result"
    }
   ],
   "source": [
    "# f1-score\n",
    "f1_score = 2 * (precision*recall) / (precision+recall)\n",
    "f1_score"
   ]
  },
  {
   "cell_type": "code",
   "execution_count": 50,
   "id": "0803e36e",
   "metadata": {},
   "outputs": [
    {
     "data": {
      "text/plain": [
       "(191, 307)"
      ]
     },
     "execution_count": 50,
     "metadata": {},
     "output_type": "execute_result"
    }
   ],
   "source": [
    "# support\n",
    "support_pos = TP + FN\n",
    "support_neg = FP + TN\n",
    "support_pos, support_neg"
   ]
  },
  {
   "cell_type": "markdown",
   "id": "f842f911",
   "metadata": {},
   "source": [
    "#### 6. Which model performs better on your in-sample data?"
   ]
  },
  {
   "cell_type": "code",
   "execution_count": 51,
   "id": "de8d524b",
   "metadata": {},
   "outputs": [
    {
     "data": {
      "text/plain": [
       "0.8112449799196787"
      ]
     },
     "execution_count": 51,
     "metadata": {},
     "output_type": "execute_result"
    }
   ],
   "source": [
    "# Model 1 accuracy score on train\n",
    "clf.score(X_train, y_train)"
   ]
  },
  {
   "cell_type": "code",
   "execution_count": 52,
   "id": "41edc710",
   "metadata": {},
   "outputs": [
    {
     "data": {
      "text/plain": [
       "0.8253012048192772"
      ]
     },
     "execution_count": 52,
     "metadata": {},
     "output_type": "execute_result"
    }
   ],
   "source": [
    "# Model 2 accuracy score on train \n",
    "clf2.score(X_train, y_train)"
   ]
  },
  {
   "cell_type": "markdown",
   "id": "0ee535cc",
   "metadata": {},
   "source": [
    "Model 2 has higer accuracy score than model 1. Model 2 peforms better"
   ]
  },
  {
   "cell_type": "markdown",
   "id": "18744231",
   "metadata": {},
   "source": [
    "#### 7. Which model performs best on your out-of-sample data, the validate set?"
   ]
  },
  {
   "cell_type": "code",
   "execution_count": 53,
   "id": "e81776e2",
   "metadata": {},
   "outputs": [
    {
     "data": {
      "text/plain": [
       "0.8271028037383178"
      ]
     },
     "execution_count": 53,
     "metadata": {},
     "output_type": "execute_result"
    }
   ],
   "source": [
    "# Model 1 accuracy score on val \n",
    "clf.score(X_val, y_val)"
   ]
  },
  {
   "cell_type": "code",
   "execution_count": 54,
   "id": "082ea901",
   "metadata": {},
   "outputs": [
    {
     "data": {
      "text/plain": [
       "0.8271028037383178"
      ]
     },
     "execution_count": 54,
     "metadata": {},
     "output_type": "execute_result"
    }
   ],
   "source": [
    "# Model 2 accuracy score on val\n",
    "clf2.score(X_val, y_val)"
   ]
  },
  {
   "cell_type": "markdown",
   "id": "bf3f3c61",
   "metadata": {},
   "source": [
    "Model 1 and Model 2 have same accuracy score on validate data"
   ]
  },
  {
   "cell_type": "code",
   "execution_count": null,
   "id": "48db8556",
   "metadata": {},
   "outputs": [],
   "source": []
  }
 ],
 "metadata": {
  "kernelspec": {
   "display_name": "Python 3 (ipykernel)",
   "language": "python",
   "name": "python3"
  },
  "language_info": {
   "codemirror_mode": {
    "name": "ipython",
    "version": 3
   },
   "file_extension": ".py",
   "mimetype": "text/x-python",
   "name": "python",
   "nbconvert_exporter": "python",
   "pygments_lexer": "ipython3",
   "version": "3.9.13"
  }
 },
 "nbformat": 4,
 "nbformat_minor": 5
}
