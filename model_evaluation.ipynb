{
 "cells": [
  {
   "cell_type": "code",
   "execution_count": 1,
   "id": "f6ce3882",
   "metadata": {},
   "outputs": [],
   "source": [
    "# imports\n",
    "\n",
    "import pandas as pd\n",
    "from sklearn.metrics import accuracy_score\n",
    "from sklearn.metrics import precision_score\n",
    "from sklearn.metrics import recall_score\n",
    "from sklearn.metrics import classification_report"
   ]
  },
  {
   "cell_type": "markdown",
   "id": "da7607f4",
   "metadata": {},
   "source": [
    "### 2. Given the following confusion matrix, evaluate (by hand) the model's performance.\n",
    "\n",
    "\n",
    "|               | pred dog   | pred cat   |\n",
    "|:------------  |-----------:|-----------:|\n",
    "| actual dog    |         46 |         7  |\n",
    "| actual cat    |         13 |         34 |"
   ]
  },
  {
   "cell_type": "markdown",
   "id": "a865fe47",
   "metadata": {},
   "source": [
    "cat = postive class\n",
    "\n",
    "dog = negative class\n",
    "\n",
    "#### - In the context of this problem, what is a false positive?\n",
    "predicted a cat but is adog\n",
    "\n",
    "#### - In the context of this problem, what is a false negative?\n",
    "predicted a dog but is a cat\n",
    "\n",
    "#### - How would you describe this model?\n",
    "true positive is predicting its a cat, and its a cat\n",
    "\n",
    "tp = 34\n",
    "\n",
    "true negative is predicting its a dog, and its a dog\n",
    "\n",
    "tn = 46\n",
    "\n",
    "false positive is predicting its a cat, but its a dog\n",
    "\n",
    "fp = 7\n",
    "\n",
    "false negative is predicting its a dog, but its a cat\n",
    "\n",
    "fn = 13\n",
    "\n"
   ]
  },
  {
   "cell_type": "code",
   "execution_count": 2,
   "id": "f011daaf",
   "metadata": {},
   "outputs": [
    {
     "data": {
      "text/plain": [
       "(0.8292682926829268, 0.723404255319149, 0.8)"
      ]
     },
     "execution_count": 2,
     "metadata": {},
     "output_type": "execute_result"
    }
   ],
   "source": [
    "FP = 7\n",
    "FN = 13\n",
    "TN = 46\n",
    "TP =34\n",
    "\n",
    "\n",
    "precision = TP/(TP+FP)\n",
    "\n",
    "recall = TP/(TP+FN)\n",
    "\n",
    "accuracy = (TP + TN) / (TP + TN + FP + FN)\n",
    "\n",
    "precision, recall, accuracy"
   ]
  },
  {
   "cell_type": "markdown",
   "id": "f9c9242d",
   "metadata": {},
   "source": [
    "####  3. You are working as a datascientist working for Codeup Cody Creator (C3 for short), a rubber-duck manufacturing plant.\n",
    "\n",
    "#### - Unfortunately, some of the rubber ducks that are produced will have defects. Your team has built several models that try to predict those defects, and the data from their predictions can be found here.\n",
    "\n",
    "#### - Use the predictions dataset and pandas to help answer the following questions:\n",
    "\n",
    "    - An internal team wants to investigate the cause of the manufacturing defects. They tell you that they want to identify as many of the ducks that have a defect as possible. Which evaluation metric would be appropriate here? Which model would be the best fit for this use case?\n",
    "\n",
    "    - Recently several stories in the local news have come out highlighting customers who received a rubber duck with a defect, and portraying C3 in a bad light. The PR team has decided to launch a program that gives customers with a defective duck a vacation to Hawaii. They need you to predict which ducks will have defects, but tell you the really don't want to accidentally give out a vacation package when the duck really doesn't have a defect. Which evaluation metric would be appropriate here? Which model would be the best fit for this use case?"
   ]
  },
  {
   "cell_type": "code",
   "execution_count": 3,
   "id": "98e8e3c8",
   "metadata": {},
   "outputs": [
    {
     "data": {
      "text/html": [
       "<div>\n",
       "<style scoped>\n",
       "    .dataframe tbody tr th:only-of-type {\n",
       "        vertical-align: middle;\n",
       "    }\n",
       "\n",
       "    .dataframe tbody tr th {\n",
       "        vertical-align: top;\n",
       "    }\n",
       "\n",
       "    .dataframe thead th {\n",
       "        text-align: right;\n",
       "    }\n",
       "</style>\n",
       "<table border=\"1\" class=\"dataframe\">\n",
       "  <thead>\n",
       "    <tr style=\"text-align: right;\">\n",
       "      <th></th>\n",
       "      <th>actual</th>\n",
       "      <th>model1</th>\n",
       "      <th>model2</th>\n",
       "      <th>model3</th>\n",
       "    </tr>\n",
       "  </thead>\n",
       "  <tbody>\n",
       "    <tr>\n",
       "      <th>0</th>\n",
       "      <td>No Defect</td>\n",
       "      <td>No Defect</td>\n",
       "      <td>Defect</td>\n",
       "      <td>No Defect</td>\n",
       "    </tr>\n",
       "    <tr>\n",
       "      <th>1</th>\n",
       "      <td>No Defect</td>\n",
       "      <td>No Defect</td>\n",
       "      <td>Defect</td>\n",
       "      <td>Defect</td>\n",
       "    </tr>\n",
       "    <tr>\n",
       "      <th>2</th>\n",
       "      <td>No Defect</td>\n",
       "      <td>No Defect</td>\n",
       "      <td>Defect</td>\n",
       "      <td>No Defect</td>\n",
       "    </tr>\n",
       "    <tr>\n",
       "      <th>3</th>\n",
       "      <td>No Defect</td>\n",
       "      <td>Defect</td>\n",
       "      <td>Defect</td>\n",
       "      <td>Defect</td>\n",
       "    </tr>\n",
       "    <tr>\n",
       "      <th>4</th>\n",
       "      <td>No Defect</td>\n",
       "      <td>No Defect</td>\n",
       "      <td>Defect</td>\n",
       "      <td>No Defect</td>\n",
       "    </tr>\n",
       "  </tbody>\n",
       "</table>\n",
       "</div>"
      ],
      "text/plain": [
       "      actual     model1  model2     model3\n",
       "0  No Defect  No Defect  Defect  No Defect\n",
       "1  No Defect  No Defect  Defect     Defect\n",
       "2  No Defect  No Defect  Defect  No Defect\n",
       "3  No Defect     Defect  Defect     Defect\n",
       "4  No Defect  No Defect  Defect  No Defect"
      ]
     },
     "execution_count": 3,
     "metadata": {},
     "output_type": "execute_result"
    }
   ],
   "source": [
    "# read csv file into dataframe\n",
    "cody_df = pd.read_csv('c3.csv')\n",
    "\n",
    "# peek at the data\n",
    "cody_df.head()"
   ]
  },
  {
   "cell_type": "code",
   "execution_count": 4,
   "id": "ffd5ee33",
   "metadata": {
    "scrolled": true
   },
   "outputs": [
    {
     "data": {
      "text/plain": [
       "No Defect    184\n",
       "Defect        16\n",
       "Name: actual, dtype: int64"
      ]
     },
     "execution_count": 4,
     "metadata": {},
     "output_type": "execute_result"
    }
   ],
   "source": [
    "# get count of defect and non-defects.\n",
    "cody_df.actual.value_counts()"
   ]
  },
  {
   "cell_type": "code",
   "execution_count": 5,
   "id": "46932479",
   "metadata": {},
   "outputs": [],
   "source": [
    "# create dataframe for confusion matrix\n",
    "df1 = pd.crosstab(cody_df.actual, cody_df.model1)\n",
    "df2 = pd.crosstab(cody_df.actual, cody_df.model2)\n",
    "df3 = pd.crosstab(cody_df.actual, cody_df.model3)"
   ]
  },
  {
   "cell_type": "code",
   "execution_count": 6,
   "id": "533436e6",
   "metadata": {},
   "outputs": [
    {
     "data": {
      "text/html": [
       "<div>\n",
       "<style scoped>\n",
       "    .dataframe tbody tr th:only-of-type {\n",
       "        vertical-align: middle;\n",
       "    }\n",
       "\n",
       "    .dataframe tbody tr th {\n",
       "        vertical-align: top;\n",
       "    }\n",
       "\n",
       "    .dataframe thead th {\n",
       "        text-align: right;\n",
       "    }\n",
       "</style>\n",
       "<table border=\"1\" class=\"dataframe\">\n",
       "  <thead>\n",
       "    <tr style=\"text-align: right;\">\n",
       "      <th>model1</th>\n",
       "      <th>Defect</th>\n",
       "      <th>No Defect</th>\n",
       "    </tr>\n",
       "    <tr>\n",
       "      <th>actual</th>\n",
       "      <th></th>\n",
       "      <th></th>\n",
       "    </tr>\n",
       "  </thead>\n",
       "  <tbody>\n",
       "    <tr>\n",
       "      <th>Defect</th>\n",
       "      <td>8</td>\n",
       "      <td>8</td>\n",
       "    </tr>\n",
       "    <tr>\n",
       "      <th>No Defect</th>\n",
       "      <td>2</td>\n",
       "      <td>182</td>\n",
       "    </tr>\n",
       "  </tbody>\n",
       "</table>\n",
       "</div>"
      ],
      "text/plain": [
       "model1     Defect  No Defect\n",
       "actual                      \n",
       "Defect          8          8\n",
       "No Defect       2        182"
      ]
     },
     "execution_count": 6,
     "metadata": {},
     "output_type": "execute_result"
    }
   ],
   "source": [
    "df1"
   ]
  },
  {
   "cell_type": "code",
   "execution_count": 7,
   "id": "a3793e4e",
   "metadata": {},
   "outputs": [
    {
     "data": {
      "text/html": [
       "<div>\n",
       "<style scoped>\n",
       "    .dataframe tbody tr th:only-of-type {\n",
       "        vertical-align: middle;\n",
       "    }\n",
       "\n",
       "    .dataframe tbody tr th {\n",
       "        vertical-align: top;\n",
       "    }\n",
       "\n",
       "    .dataframe thead th {\n",
       "        text-align: right;\n",
       "    }\n",
       "</style>\n",
       "<table border=\"1\" class=\"dataframe\">\n",
       "  <thead>\n",
       "    <tr style=\"text-align: right;\">\n",
       "      <th>model2</th>\n",
       "      <th>Defect</th>\n",
       "      <th>No Defect</th>\n",
       "    </tr>\n",
       "    <tr>\n",
       "      <th>actual</th>\n",
       "      <th></th>\n",
       "      <th></th>\n",
       "    </tr>\n",
       "  </thead>\n",
       "  <tbody>\n",
       "    <tr>\n",
       "      <th>Defect</th>\n",
       "      <td>9</td>\n",
       "      <td>7</td>\n",
       "    </tr>\n",
       "    <tr>\n",
       "      <th>No Defect</th>\n",
       "      <td>81</td>\n",
       "      <td>103</td>\n",
       "    </tr>\n",
       "  </tbody>\n",
       "</table>\n",
       "</div>"
      ],
      "text/plain": [
       "model2     Defect  No Defect\n",
       "actual                      \n",
       "Defect          9          7\n",
       "No Defect      81        103"
      ]
     },
     "execution_count": 7,
     "metadata": {},
     "output_type": "execute_result"
    }
   ],
   "source": [
    "df2"
   ]
  },
  {
   "cell_type": "code",
   "execution_count": 8,
   "id": "04945700",
   "metadata": {},
   "outputs": [
    {
     "data": {
      "text/html": [
       "<div>\n",
       "<style scoped>\n",
       "    .dataframe tbody tr th:only-of-type {\n",
       "        vertical-align: middle;\n",
       "    }\n",
       "\n",
       "    .dataframe tbody tr th {\n",
       "        vertical-align: top;\n",
       "    }\n",
       "\n",
       "    .dataframe thead th {\n",
       "        text-align: right;\n",
       "    }\n",
       "</style>\n",
       "<table border=\"1\" class=\"dataframe\">\n",
       "  <thead>\n",
       "    <tr style=\"text-align: right;\">\n",
       "      <th>model3</th>\n",
       "      <th>Defect</th>\n",
       "      <th>No Defect</th>\n",
       "    </tr>\n",
       "    <tr>\n",
       "      <th>actual</th>\n",
       "      <th></th>\n",
       "      <th></th>\n",
       "    </tr>\n",
       "  </thead>\n",
       "  <tbody>\n",
       "    <tr>\n",
       "      <th>Defect</th>\n",
       "      <td>13</td>\n",
       "      <td>3</td>\n",
       "    </tr>\n",
       "    <tr>\n",
       "      <th>No Defect</th>\n",
       "      <td>86</td>\n",
       "      <td>98</td>\n",
       "    </tr>\n",
       "  </tbody>\n",
       "</table>\n",
       "</div>"
      ],
      "text/plain": [
       "model3     Defect  No Defect\n",
       "actual                      \n",
       "Defect         13          3\n",
       "No Defect      86         98"
      ]
     },
     "execution_count": 8,
     "metadata": {},
     "output_type": "execute_result"
    }
   ],
   "source": [
    "df3"
   ]
  },
  {
   "cell_type": "markdown",
   "id": "9be9eb9c",
   "metadata": {},
   "source": [
    " #### -  An internal team wants to investigate the cause of the manufacturing defects. They tell you that they want to identify as many of the ducks that have a defect as possible. Which evaluation metric would be appropriate here? Which model would be the best fit for this use case?"
   ]
  },
  {
   "cell_type": "code",
   "execution_count": 9,
   "id": "de588460",
   "metadata": {},
   "outputs": [],
   "source": [
    "# model positive\n",
    "subset = cody_df[cody_df.actual == 'Defect']"
   ]
  },
  {
   "cell_type": "code",
   "execution_count": 10,
   "id": "bd5ea065",
   "metadata": {},
   "outputs": [],
   "source": [
    "# recall of each model\n",
    "model1_recall = (subset.model1 == subset.actual).mean()\n",
    "model2_recall = (subset.model2 == subset.actual).mean()\n",
    "model3_recall = (subset.model3 == subset.actual).mean()"
   ]
  },
  {
   "cell_type": "code",
   "execution_count": 11,
   "id": "b888b3a3",
   "metadata": {},
   "outputs": [
    {
     "data": {
      "text/plain": [
       "(0.5, 0.5625, 0.8125)"
      ]
     },
     "execution_count": 11,
     "metadata": {},
     "output_type": "execute_result"
    }
   ],
   "source": [
    "# print recall of each model\n",
    "model1_recall, model2_recall, model3_recall"
   ]
  },
  {
   "cell_type": "code",
   "execution_count": 12,
   "id": "39a3b901",
   "metadata": {},
   "outputs": [
    {
     "data": {
      "text/plain": [
       "(0.5, 0.5625, 0.8666666666666667)"
      ]
     },
     "execution_count": 12,
     "metadata": {},
     "output_type": "execute_result"
    }
   ],
   "source": [
    "# Recall by confusion matrix \n",
    "# Recall = TP /(TP/TP+ FN)\n",
    "8/16, 9/16, 13/15"
   ]
  },
  {
   "cell_type": "markdown",
   "id": "143f24f8",
   "metadata": {},
   "source": [
    " Recall metric would be appropriate here. Model3 is the best fit."
   ]
  },
  {
   "cell_type": "markdown",
   "id": "9509d497",
   "metadata": {},
   "source": [
    "#### - Recently several stories in the local news have come out highlighting customers who received a rubber duck with a defect, and portraying C3 in a bad light. The PR team has decided to launch a program that gives customers with a defective duck a vacation to Hawaii. They need you to predict which ducks will have defects, but tell you the really don't want to accidentally give out a vacation package when the duck really doesn't have a defect. Which evaluation metric would be appropriate here? Which model would be the best fit for this use case?"
   ]
  },
  {
   "cell_type": "code",
   "execution_count": 13,
   "id": "242c4ad5",
   "metadata": {},
   "outputs": [],
   "source": [
    "\n",
    "subset1 = cody_df[cody_df.model1 == 'Defect'] \n",
    "subset2 = cody_df[cody_df.model2 == 'Defect'] \n",
    "subset3 = cody_df[cody_df.model3 == 'Defect'] \n"
   ]
  },
  {
   "cell_type": "code",
   "execution_count": 14,
   "id": "a885c841",
   "metadata": {},
   "outputs": [],
   "source": [
    "# precision of each model\n",
    "model1_precision = (subset1.model1 == subset1.actual).mean()\n",
    "model2_precision = (subset2.model2 == subset2.actual).mean()\n",
    "model3_precision = (subset3.model3 == subset3.actual).mean()"
   ]
  },
  {
   "cell_type": "code",
   "execution_count": 15,
   "id": "1664d515",
   "metadata": {},
   "outputs": [
    {
     "data": {
      "text/plain": [
       "(0.8, 0.1, 0.13131313131313133)"
      ]
     },
     "execution_count": 15,
     "metadata": {},
     "output_type": "execute_result"
    }
   ],
   "source": [
    "# print precision of each model\n",
    "model1_precision, model2_precision, model3_precision"
   ]
  },
  {
   "cell_type": "code",
   "execution_count": 16,
   "id": "537e2201",
   "metadata": {},
   "outputs": [
    {
     "data": {
      "text/plain": [
       "(0.8, 0.1, 0.13131313131313133)"
      ]
     },
     "execution_count": 16,
     "metadata": {},
     "output_type": "execute_result"
    }
   ],
   "source": [
    "# precision by confusion matrix each model\n",
    "# Recall = TP /(TP/TP+ FP)\n",
    "8/10, 9/90, 13/(13+86)"
   ]
  },
  {
   "cell_type": "markdown",
   "id": "fdf4367e",
   "metadata": {},
   "source": [
    " Precision metric would be appropiate. Model1 is the best fit."
   ]
  },
  {
   "cell_type": "markdown",
   "id": "835e0197",
   "metadata": {},
   "source": [
    "### 4. You are working as a data scientist for Gives You Paws ™, a subscription based service that shows you cute pictures of dogs or cats (or both for an additional fee).\n",
    "\n",
    "At Gives You Paws, anyone can upload pictures of their cats or dogs. The photos are then put through a two step process. First an automated algorithm tags pictures as either a cat or a dog (Phase I). Next, the photos that have been initially identified are put through another round of review, possibly with some human oversight, before being presented to the users (Phase II).\n",
    "\n",
    "Several models have already been developed with the data, and you can find their results here.\n",
    "\n",
    "Given this dataset, use pandas to create a baseline model (i.e. a model that just predicts the most common class) and answer the following questions:\n",
    "\n",
    " - a. In terms of accuracy, how do the various models compare to the baseline model? Are any of the models better than the baseline?\n",
    "    \n",
    " - b. Suppose you are working on a team that solely deals with dog pictures. Which of these models would you recommend?\n",
    "     \n",
    "- c. Suppose you are working on a team that solely deals with cat pictures. Which of these models would you recommend?"
   ]
  },
  {
   "cell_type": "code",
   "execution_count": 17,
   "id": "cd1e02aa",
   "metadata": {},
   "outputs": [
    {
     "data": {
      "text/html": [
       "<div>\n",
       "<style scoped>\n",
       "    .dataframe tbody tr th:only-of-type {\n",
       "        vertical-align: middle;\n",
       "    }\n",
       "\n",
       "    .dataframe tbody tr th {\n",
       "        vertical-align: top;\n",
       "    }\n",
       "\n",
       "    .dataframe thead th {\n",
       "        text-align: right;\n",
       "    }\n",
       "</style>\n",
       "<table border=\"1\" class=\"dataframe\">\n",
       "  <thead>\n",
       "    <tr style=\"text-align: right;\">\n",
       "      <th></th>\n",
       "      <th>actual</th>\n",
       "      <th>model1</th>\n",
       "      <th>model2</th>\n",
       "      <th>model3</th>\n",
       "      <th>model4</th>\n",
       "    </tr>\n",
       "  </thead>\n",
       "  <tbody>\n",
       "    <tr>\n",
       "      <th>0</th>\n",
       "      <td>cat</td>\n",
       "      <td>cat</td>\n",
       "      <td>dog</td>\n",
       "      <td>cat</td>\n",
       "      <td>dog</td>\n",
       "    </tr>\n",
       "    <tr>\n",
       "      <th>1</th>\n",
       "      <td>dog</td>\n",
       "      <td>dog</td>\n",
       "      <td>cat</td>\n",
       "      <td>cat</td>\n",
       "      <td>dog</td>\n",
       "    </tr>\n",
       "    <tr>\n",
       "      <th>2</th>\n",
       "      <td>dog</td>\n",
       "      <td>cat</td>\n",
       "      <td>cat</td>\n",
       "      <td>cat</td>\n",
       "      <td>dog</td>\n",
       "    </tr>\n",
       "    <tr>\n",
       "      <th>3</th>\n",
       "      <td>dog</td>\n",
       "      <td>dog</td>\n",
       "      <td>dog</td>\n",
       "      <td>cat</td>\n",
       "      <td>dog</td>\n",
       "    </tr>\n",
       "    <tr>\n",
       "      <th>4</th>\n",
       "      <td>cat</td>\n",
       "      <td>cat</td>\n",
       "      <td>cat</td>\n",
       "      <td>dog</td>\n",
       "      <td>dog</td>\n",
       "    </tr>\n",
       "  </tbody>\n",
       "</table>\n",
       "</div>"
      ],
      "text/plain": [
       "  actual model1 model2 model3 model4\n",
       "0    cat    cat    dog    cat    dog\n",
       "1    dog    dog    cat    cat    dog\n",
       "2    dog    cat    cat    cat    dog\n",
       "3    dog    dog    dog    cat    dog\n",
       "4    cat    cat    cat    dog    dog"
      ]
     },
     "execution_count": 17,
     "metadata": {},
     "output_type": "execute_result"
    }
   ],
   "source": [
    "# read csv file into dataframe\n",
    "paws_df = pd.read_csv('gives_you_paws.csv')\n",
    "\n",
    "# peek into data\n",
    "paws_df.head()"
   ]
  },
  {
   "cell_type": "code",
   "execution_count": 18,
   "id": "1c30ba37",
   "metadata": {},
   "outputs": [],
   "source": [
    "# create dataframe for confusion matrix\n",
    "df1 = pd.crosstab(paws_df.actual, paws_df.model1)\n",
    "df2 = pd.crosstab(paws_df.actual, paws_df.model2)\n",
    "df3 = pd.crosstab(paws_df.actual, paws_df.model3)\n",
    "df4 = pd.crosstab(paws_df.actual, paws_df.model4)"
   ]
  },
  {
   "cell_type": "code",
   "execution_count": 19,
   "id": "b51e25e0",
   "metadata": {
    "scrolled": true
   },
   "outputs": [
    {
     "data": {
      "text/html": [
       "<div>\n",
       "<style scoped>\n",
       "    .dataframe tbody tr th:only-of-type {\n",
       "        vertical-align: middle;\n",
       "    }\n",
       "\n",
       "    .dataframe tbody tr th {\n",
       "        vertical-align: top;\n",
       "    }\n",
       "\n",
       "    .dataframe thead th {\n",
       "        text-align: right;\n",
       "    }\n",
       "</style>\n",
       "<table border=\"1\" class=\"dataframe\">\n",
       "  <thead>\n",
       "    <tr style=\"text-align: right;\">\n",
       "      <th>model1</th>\n",
       "      <th>cat</th>\n",
       "      <th>dog</th>\n",
       "    </tr>\n",
       "    <tr>\n",
       "      <th>actual</th>\n",
       "      <th></th>\n",
       "      <th></th>\n",
       "    </tr>\n",
       "  </thead>\n",
       "  <tbody>\n",
       "    <tr>\n",
       "      <th>cat</th>\n",
       "      <td>1423</td>\n",
       "      <td>323</td>\n",
       "    </tr>\n",
       "    <tr>\n",
       "      <th>dog</th>\n",
       "      <td>640</td>\n",
       "      <td>2614</td>\n",
       "    </tr>\n",
       "  </tbody>\n",
       "</table>\n",
       "</div>"
      ],
      "text/plain": [
       "model1   cat   dog\n",
       "actual            \n",
       "cat     1423   323\n",
       "dog      640  2614"
      ]
     },
     "execution_count": 19,
     "metadata": {},
     "output_type": "execute_result"
    }
   ],
   "source": [
    "df1"
   ]
  },
  {
   "cell_type": "code",
   "execution_count": 20,
   "id": "209983a2",
   "metadata": {},
   "outputs": [
    {
     "data": {
      "text/html": [
       "<div>\n",
       "<style scoped>\n",
       "    .dataframe tbody tr th:only-of-type {\n",
       "        vertical-align: middle;\n",
       "    }\n",
       "\n",
       "    .dataframe tbody tr th {\n",
       "        vertical-align: top;\n",
       "    }\n",
       "\n",
       "    .dataframe thead th {\n",
       "        text-align: right;\n",
       "    }\n",
       "</style>\n",
       "<table border=\"1\" class=\"dataframe\">\n",
       "  <thead>\n",
       "    <tr style=\"text-align: right;\">\n",
       "      <th>model2</th>\n",
       "      <th>cat</th>\n",
       "      <th>dog</th>\n",
       "    </tr>\n",
       "    <tr>\n",
       "      <th>actual</th>\n",
       "      <th></th>\n",
       "      <th></th>\n",
       "    </tr>\n",
       "  </thead>\n",
       "  <tbody>\n",
       "    <tr>\n",
       "      <th>cat</th>\n",
       "      <td>1555</td>\n",
       "      <td>191</td>\n",
       "    </tr>\n",
       "    <tr>\n",
       "      <th>dog</th>\n",
       "      <td>1657</td>\n",
       "      <td>1597</td>\n",
       "    </tr>\n",
       "  </tbody>\n",
       "</table>\n",
       "</div>"
      ],
      "text/plain": [
       "model2   cat   dog\n",
       "actual            \n",
       "cat     1555   191\n",
       "dog     1657  1597"
      ]
     },
     "execution_count": 20,
     "metadata": {},
     "output_type": "execute_result"
    }
   ],
   "source": [
    "df2"
   ]
  },
  {
   "cell_type": "code",
   "execution_count": 21,
   "id": "38a1fdc5",
   "metadata": {},
   "outputs": [
    {
     "data": {
      "text/html": [
       "<div>\n",
       "<style scoped>\n",
       "    .dataframe tbody tr th:only-of-type {\n",
       "        vertical-align: middle;\n",
       "    }\n",
       "\n",
       "    .dataframe tbody tr th {\n",
       "        vertical-align: top;\n",
       "    }\n",
       "\n",
       "    .dataframe thead th {\n",
       "        text-align: right;\n",
       "    }\n",
       "</style>\n",
       "<table border=\"1\" class=\"dataframe\">\n",
       "  <thead>\n",
       "    <tr style=\"text-align: right;\">\n",
       "      <th>model3</th>\n",
       "      <th>cat</th>\n",
       "      <th>dog</th>\n",
       "    </tr>\n",
       "    <tr>\n",
       "      <th>actual</th>\n",
       "      <th></th>\n",
       "      <th></th>\n",
       "    </tr>\n",
       "  </thead>\n",
       "  <tbody>\n",
       "    <tr>\n",
       "      <th>cat</th>\n",
       "      <td>893</td>\n",
       "      <td>853</td>\n",
       "    </tr>\n",
       "    <tr>\n",
       "      <th>dog</th>\n",
       "      <td>1599</td>\n",
       "      <td>1655</td>\n",
       "    </tr>\n",
       "  </tbody>\n",
       "</table>\n",
       "</div>"
      ],
      "text/plain": [
       "model3   cat   dog\n",
       "actual            \n",
       "cat      893   853\n",
       "dog     1599  1655"
      ]
     },
     "execution_count": 21,
     "metadata": {},
     "output_type": "execute_result"
    }
   ],
   "source": [
    "df3"
   ]
  },
  {
   "cell_type": "code",
   "execution_count": 22,
   "id": "620d5665",
   "metadata": {},
   "outputs": [
    {
     "data": {
      "text/html": [
       "<div>\n",
       "<style scoped>\n",
       "    .dataframe tbody tr th:only-of-type {\n",
       "        vertical-align: middle;\n",
       "    }\n",
       "\n",
       "    .dataframe tbody tr th {\n",
       "        vertical-align: top;\n",
       "    }\n",
       "\n",
       "    .dataframe thead th {\n",
       "        text-align: right;\n",
       "    }\n",
       "</style>\n",
       "<table border=\"1\" class=\"dataframe\">\n",
       "  <thead>\n",
       "    <tr style=\"text-align: right;\">\n",
       "      <th>model4</th>\n",
       "      <th>cat</th>\n",
       "      <th>dog</th>\n",
       "    </tr>\n",
       "    <tr>\n",
       "      <th>actual</th>\n",
       "      <th></th>\n",
       "      <th></th>\n",
       "    </tr>\n",
       "  </thead>\n",
       "  <tbody>\n",
       "    <tr>\n",
       "      <th>cat</th>\n",
       "      <td>603</td>\n",
       "      <td>1143</td>\n",
       "    </tr>\n",
       "    <tr>\n",
       "      <th>dog</th>\n",
       "      <td>144</td>\n",
       "      <td>3110</td>\n",
       "    </tr>\n",
       "  </tbody>\n",
       "</table>\n",
       "</div>"
      ],
      "text/plain": [
       "model4  cat   dog\n",
       "actual           \n",
       "cat     603  1143\n",
       "dog     144  3110"
      ]
     },
     "execution_count": 22,
     "metadata": {},
     "output_type": "execute_result"
    }
   ],
   "source": [
    "df4"
   ]
  },
  {
   "cell_type": "markdown",
   "id": "f2adcfd1",
   "metadata": {},
   "source": [
    "#### - a. In terms of accuracy, how do the various models compare to the baseline model? Are any of the models better than the baseline?"
   ]
  },
  {
   "cell_type": "code",
   "execution_count": 23,
   "id": "c4aa30b3",
   "metadata": {},
   "outputs": [
    {
     "data": {
      "text/plain": [
       "dog    3254\n",
       "cat    1746\n",
       "Name: actual, dtype: int64"
      ]
     },
     "execution_count": 23,
     "metadata": {},
     "output_type": "execute_result"
    }
   ],
   "source": [
    "# get value counts \n",
    "paws_df.actual.value_counts()"
   ]
  },
  {
   "cell_type": "code",
   "execution_count": 24,
   "id": "fed0d405",
   "metadata": {},
   "outputs": [],
   "source": [
    "# baseline prediction\n",
    "paws_df['baseline_prediction'] = 'dog'"
   ]
  },
  {
   "cell_type": "code",
   "execution_count": 25,
   "id": "d1885c26",
   "metadata": {},
   "outputs": [
    {
     "data": {
      "text/html": [
       "<div>\n",
       "<style scoped>\n",
       "    .dataframe tbody tr th:only-of-type {\n",
       "        vertical-align: middle;\n",
       "    }\n",
       "\n",
       "    .dataframe tbody tr th {\n",
       "        vertical-align: top;\n",
       "    }\n",
       "\n",
       "    .dataframe thead th {\n",
       "        text-align: right;\n",
       "    }\n",
       "</style>\n",
       "<table border=\"1\" class=\"dataframe\">\n",
       "  <thead>\n",
       "    <tr style=\"text-align: right;\">\n",
       "      <th></th>\n",
       "      <th>actual</th>\n",
       "      <th>model1</th>\n",
       "      <th>model2</th>\n",
       "      <th>model3</th>\n",
       "      <th>model4</th>\n",
       "      <th>baseline_prediction</th>\n",
       "    </tr>\n",
       "  </thead>\n",
       "  <tbody>\n",
       "    <tr>\n",
       "      <th>0</th>\n",
       "      <td>cat</td>\n",
       "      <td>cat</td>\n",
       "      <td>dog</td>\n",
       "      <td>cat</td>\n",
       "      <td>dog</td>\n",
       "      <td>dog</td>\n",
       "    </tr>\n",
       "    <tr>\n",
       "      <th>1</th>\n",
       "      <td>dog</td>\n",
       "      <td>dog</td>\n",
       "      <td>cat</td>\n",
       "      <td>cat</td>\n",
       "      <td>dog</td>\n",
       "      <td>dog</td>\n",
       "    </tr>\n",
       "    <tr>\n",
       "      <th>2</th>\n",
       "      <td>dog</td>\n",
       "      <td>cat</td>\n",
       "      <td>cat</td>\n",
       "      <td>cat</td>\n",
       "      <td>dog</td>\n",
       "      <td>dog</td>\n",
       "    </tr>\n",
       "    <tr>\n",
       "      <th>3</th>\n",
       "      <td>dog</td>\n",
       "      <td>dog</td>\n",
       "      <td>dog</td>\n",
       "      <td>cat</td>\n",
       "      <td>dog</td>\n",
       "      <td>dog</td>\n",
       "    </tr>\n",
       "    <tr>\n",
       "      <th>4</th>\n",
       "      <td>cat</td>\n",
       "      <td>cat</td>\n",
       "      <td>cat</td>\n",
       "      <td>dog</td>\n",
       "      <td>dog</td>\n",
       "      <td>dog</td>\n",
       "    </tr>\n",
       "  </tbody>\n",
       "</table>\n",
       "</div>"
      ],
      "text/plain": [
       "  actual model1 model2 model3 model4 baseline_prediction\n",
       "0    cat    cat    dog    cat    dog                 dog\n",
       "1    dog    dog    cat    cat    dog                 dog\n",
       "2    dog    cat    cat    cat    dog                 dog\n",
       "3    dog    dog    dog    cat    dog                 dog\n",
       "4    cat    cat    cat    dog    dog                 dog"
      ]
     },
     "execution_count": 25,
     "metadata": {},
     "output_type": "execute_result"
    }
   ],
   "source": [
    "# dataframe with baseline prediction\n",
    "paws_df.head()"
   ]
  },
  {
   "cell_type": "code",
   "execution_count": 26,
   "id": "11a449a3",
   "metadata": {},
   "outputs": [
    {
     "data": {
      "text/plain": [
       "0.6508"
      ]
     },
     "execution_count": 26,
     "metadata": {},
     "output_type": "execute_result"
    }
   ],
   "source": [
    "# baseline accuracy\n",
    "baseline_accuracy = (paws_df.baseline_prediction == paws_df.actual).mean()\n",
    "baseline_accuracy"
   ]
  },
  {
   "cell_type": "code",
   "execution_count": 27,
   "id": "cf7633d1",
   "metadata": {},
   "outputs": [],
   "source": [
    "# get accuracy score of each model\n",
    "model1_accuracy = (paws_df.model1 == paws_df.actual).mean()\n",
    "model2_accuracy = (paws_df.model2 == paws_df.actual).mean()\n",
    "model3_accuracy = (paws_df.model3 == paws_df.actual).mean()\n",
    "model4_accuracy = (paws_df.model4 == paws_df.actual).mean()"
   ]
  },
  {
   "cell_type": "code",
   "execution_count": 28,
   "id": "4bda68dd",
   "metadata": {},
   "outputs": [
    {
     "data": {
      "text/plain": [
       "(0.8074, 0.6304, 0.5096, 0.7426)"
      ]
     },
     "execution_count": 28,
     "metadata": {},
     "output_type": "execute_result"
    }
   ],
   "source": [
    "# print accuracy score of each model\n",
    "model1_accuracy, model2_accuracy, model3_accuracy, model4_accuracy"
   ]
  },
  {
   "cell_type": "markdown",
   "id": "74f7d085",
   "metadata": {},
   "source": [
    "model1 and model4 are better than baseline"
   ]
  },
  {
   "cell_type": "markdown",
   "id": "f48aa8b6",
   "metadata": {},
   "source": [
    "#### - b. Suppose you are working on a team that solely deals with dog pictures. Which of these models would you recommend?"
   ]
  },
  {
   "cell_type": "markdown",
   "id": "c69d2b4b",
   "metadata": {},
   "source": [
    "####  Phase I: Automated algorithm tags pictures as either a cat or a dog"
   ]
  },
  {
   "cell_type": "code",
   "execution_count": 29,
   "id": "92faa77b",
   "metadata": {},
   "outputs": [],
   "source": [
    "subset = paws_df[paws_df.actual == 'dog']"
   ]
  },
  {
   "cell_type": "code",
   "execution_count": 30,
   "id": "7821a3f2",
   "metadata": {},
   "outputs": [],
   "source": [
    "model1_recall = (subset.model1 == subset.actual).mean()\n",
    "model2_recall = (subset.model2 == subset.actual).mean()\n",
    "model3_recall = (subset.model3 == subset.actual).mean()\n",
    "model4_recall = (subset.model4 == subset.actual).mean()"
   ]
  },
  {
   "cell_type": "code",
   "execution_count": 31,
   "id": "f216211b",
   "metadata": {},
   "outputs": [
    {
     "data": {
      "text/plain": [
       "(0.803318992009834,\n",
       " 0.49078057775046097,\n",
       " 0.5086047940995697,\n",
       " 0.9557467732022127)"
      ]
     },
     "execution_count": 31,
     "metadata": {},
     "output_type": "execute_result"
    }
   ],
   "source": [
    "# print recall of each model\n",
    "model1_recall, model2_recall, model3_recall, model4_recall"
   ]
  },
  {
   "cell_type": "markdown",
   "id": "8d568c06",
   "metadata": {},
   "source": [
    "recommend model 4"
   ]
  },
  {
   "cell_type": "markdown",
   "id": "d0ae68b9",
   "metadata": {},
   "source": [
    "#### Phase II: Photos that have been initially identified are put through another round of review"
   ]
  },
  {
   "cell_type": "code",
   "execution_count": 32,
   "id": "cafaacd9",
   "metadata": {},
   "outputs": [],
   "source": [
    " \n",
    "subset1 = paws_df[paws_df.model1 == 'dog'] \n",
    "subset2 = paws_df[paws_df.model2 == 'dog'] \n",
    "subset3 = paws_df[paws_df.model3 == 'dog'] \n",
    "subset4 = paws_df[paws_df.model4 == 'dog'] "
   ]
  },
  {
   "cell_type": "code",
   "execution_count": 33,
   "id": "bfc5f405",
   "metadata": {},
   "outputs": [],
   "source": [
    "# get precsion of each model\n",
    "model1_precision = (subset1.model1 == subset1.actual).mean()\n",
    "model2_precision = (subset2.model2 == subset2.actual).mean()\n",
    "model3_precision = (subset3.model3 == subset3.actual).mean()\n",
    "model4_precision = (subset4.model4 == subset4.actual).mean()\n"
   ]
  },
  {
   "cell_type": "code",
   "execution_count": 34,
   "id": "9911c06a",
   "metadata": {},
   "outputs": [
    {
     "data": {
      "text/html": [
       "<div>\n",
       "<style scoped>\n",
       "    .dataframe tbody tr th:only-of-type {\n",
       "        vertical-align: middle;\n",
       "    }\n",
       "\n",
       "    .dataframe tbody tr th {\n",
       "        vertical-align: top;\n",
       "    }\n",
       "\n",
       "    .dataframe thead th {\n",
       "        text-align: right;\n",
       "    }\n",
       "</style>\n",
       "<table border=\"1\" class=\"dataframe\">\n",
       "  <thead>\n",
       "    <tr style=\"text-align: right;\">\n",
       "      <th>model1</th>\n",
       "      <th>cat</th>\n",
       "      <th>dog</th>\n",
       "    </tr>\n",
       "    <tr>\n",
       "      <th>actual</th>\n",
       "      <th></th>\n",
       "      <th></th>\n",
       "    </tr>\n",
       "  </thead>\n",
       "  <tbody>\n",
       "    <tr>\n",
       "      <th>cat</th>\n",
       "      <td>1423</td>\n",
       "      <td>323</td>\n",
       "    </tr>\n",
       "    <tr>\n",
       "      <th>dog</th>\n",
       "      <td>640</td>\n",
       "      <td>2614</td>\n",
       "    </tr>\n",
       "  </tbody>\n",
       "</table>\n",
       "</div>"
      ],
      "text/plain": [
       "model1   cat   dog\n",
       "actual            \n",
       "cat     1423   323\n",
       "dog      640  2614"
      ]
     },
     "execution_count": 34,
     "metadata": {},
     "output_type": "execute_result"
    }
   ],
   "source": [
    "df1"
   ]
  },
  {
   "cell_type": "code",
   "execution_count": 35,
   "id": "570a2bf4",
   "metadata": {},
   "outputs": [
    {
     "data": {
      "text/plain": [
       "(0.8900238338440586,\n",
       " 0.8931767337807607,\n",
       " 0.6598883572567783,\n",
       " 0.7312485304490948)"
      ]
     },
     "execution_count": 35,
     "metadata": {},
     "output_type": "execute_result"
    }
   ],
   "source": [
    "2614/(2614+323), 1597/(1597+191), 1655/(1655+853), 3110/(3110+1143)"
   ]
  },
  {
   "cell_type": "code",
   "execution_count": 36,
   "id": "da06ff3e",
   "metadata": {},
   "outputs": [
    {
     "data": {
      "text/plain": [
       "(0.8900238338440586,\n",
       " 0.8931767337807607,\n",
       " 0.6598883572567783,\n",
       " 0.7312485304490948)"
      ]
     },
     "execution_count": 36,
     "metadata": {},
     "output_type": "execute_result"
    }
   ],
   "source": [
    "model1_precision, model2_precision, model3_precision, model4_precision"
   ]
  },
  {
   "cell_type": "markdown",
   "id": "8315090c",
   "metadata": {},
   "source": [
    "recommend Model2"
   ]
  },
  {
   "cell_type": "markdown",
   "id": "620639d4",
   "metadata": {},
   "source": [
    "#### - c. Suppose you are working on a team that solely deals with cat pictures. Which of these models would you recommend?"
   ]
  },
  {
   "cell_type": "code",
   "execution_count": 37,
   "id": "07fd92ea",
   "metadata": {},
   "outputs": [],
   "source": [
    "subset = paws_df[paws_df.actual == 'cat']"
   ]
  },
  {
   "cell_type": "code",
   "execution_count": 38,
   "id": "ce37ed4d",
   "metadata": {},
   "outputs": [],
   "source": [
    "subset1 = paws_df[paws_df.model1 == 'cat'] \n",
    "subset2 = paws_df[paws_df.model2 == 'cat'] \n",
    "subset3 = paws_df[paws_df.model3 == 'cat'] \n",
    "subset4 = paws_df[paws_df.model4 == 'cat'] "
   ]
  },
  {
   "cell_type": "code",
   "execution_count": 39,
   "id": "1eb8ecdc",
   "metadata": {},
   "outputs": [],
   "source": [
    "model1_precision = (subset1.model1 == subset1.actual).mean()\n",
    "model2_precision = (subset2.model2 == subset2.actual).mean()\n",
    "model3_precision = (subset3.model3 == subset3.actual).mean()\n",
    "model4_precision = (subset4.model4 == subset4.actual).mean()"
   ]
  },
  {
   "cell_type": "code",
   "execution_count": 40,
   "id": "d4b46013",
   "metadata": {},
   "outputs": [
    {
     "data": {
      "text/plain": [
       "(0.6897721764420747, 0.4841220423412204, 0.358346709470305, 0.8072289156626506)"
      ]
     },
     "execution_count": 40,
     "metadata": {},
     "output_type": "execute_result"
    }
   ],
   "source": [
    "model1_precision, model2_precision, model3_precision, model4_precision"
   ]
  },
  {
   "cell_type": "code",
   "execution_count": 41,
   "id": "7631fe33",
   "metadata": {},
   "outputs": [
    {
     "data": {
      "text/html": [
       "<div>\n",
       "<style scoped>\n",
       "    .dataframe tbody tr th:only-of-type {\n",
       "        vertical-align: middle;\n",
       "    }\n",
       "\n",
       "    .dataframe tbody tr th {\n",
       "        vertical-align: top;\n",
       "    }\n",
       "\n",
       "    .dataframe thead th {\n",
       "        text-align: right;\n",
       "    }\n",
       "</style>\n",
       "<table border=\"1\" class=\"dataframe\">\n",
       "  <thead>\n",
       "    <tr style=\"text-align: right;\">\n",
       "      <th>model1</th>\n",
       "      <th>cat</th>\n",
       "      <th>dog</th>\n",
       "    </tr>\n",
       "    <tr>\n",
       "      <th>actual</th>\n",
       "      <th></th>\n",
       "      <th></th>\n",
       "    </tr>\n",
       "  </thead>\n",
       "  <tbody>\n",
       "    <tr>\n",
       "      <th>cat</th>\n",
       "      <td>1423</td>\n",
       "      <td>323</td>\n",
       "    </tr>\n",
       "    <tr>\n",
       "      <th>dog</th>\n",
       "      <td>640</td>\n",
       "      <td>2614</td>\n",
       "    </tr>\n",
       "  </tbody>\n",
       "</table>\n",
       "</div>"
      ],
      "text/plain": [
       "model1   cat   dog\n",
       "actual            \n",
       "cat     1423   323\n",
       "dog      640  2614"
      ]
     },
     "execution_count": 41,
     "metadata": {},
     "output_type": "execute_result"
    }
   ],
   "source": [
    "df1"
   ]
  },
  {
   "cell_type": "code",
   "execution_count": 42,
   "id": "200a303e",
   "metadata": {},
   "outputs": [
    {
     "data": {
      "text/plain": [
       "(0.6897721764420747, 0.4841220423412204, 0.358346709470305, 0.8072289156626506)"
      ]
     },
     "execution_count": 42,
     "metadata": {},
     "output_type": "execute_result"
    }
   ],
   "source": [
    "# precision by of each model by cofusion matrix\n",
    "1423/(1423+640), 1555/(1555+1657), 893/(893+1599), 603/(603+144)"
   ]
  },
  {
   "cell_type": "code",
   "execution_count": 43,
   "id": "2cd2d116",
   "metadata": {},
   "outputs": [
    {
     "data": {
      "text/plain": [
       "(0.6897721764420747, 0.4841220423412204, 0.358346709470305, 0.8072289156626506)"
      ]
     },
     "execution_count": 43,
     "metadata": {},
     "output_type": "execute_result"
    }
   ],
   "source": [
    "# print precision\n",
    "model1_precision, model2_precision, model3_precision, model4_precision"
   ]
  },
  {
   "cell_type": "markdown",
   "id": "16ba0e88",
   "metadata": {},
   "source": [
    "recommend Model4"
   ]
  },
  {
   "cell_type": "code",
   "execution_count": 44,
   "id": "39d0e04f",
   "metadata": {},
   "outputs": [
    {
     "data": {
      "text/plain": [
       "[['model1', 0.6897721764420747],\n",
       " ['model2', 0.4841220423412204],\n",
       " ['model3', 0.358346709470305],\n",
       " ['model4', 0.8072289156626506],\n",
       " ['baseline_prediction', nan]]"
      ]
     },
     "execution_count": 44,
     "metadata": {},
     "output_type": "execute_result"
    }
   ],
   "source": [
    "# another way\n",
    "\n",
    "#calculate for all models\n",
    "model_pre = []\n",
    "\n",
    "for model in paws_df.columns[1:]:\n",
    "    \n",
    "    subset = paws_df [paws_df[model] == 'cat']\n",
    "    \n",
    "    precision = (subset.actual == subset[model]).mean()\n",
    "\n",
    "    model_pre.append([model,precision])\n",
    "    \n",
    "model_pre"
   ]
  },
  {
   "cell_type": "code",
   "execution_count": 45,
   "id": "5596eec1",
   "metadata": {},
   "outputs": [
    {
     "data": {
      "text/html": [
       "<div>\n",
       "<style scoped>\n",
       "    .dataframe tbody tr th:only-of-type {\n",
       "        vertical-align: middle;\n",
       "    }\n",
       "\n",
       "    .dataframe tbody tr th {\n",
       "        vertical-align: top;\n",
       "    }\n",
       "\n",
       "    .dataframe thead th {\n",
       "        text-align: right;\n",
       "    }\n",
       "</style>\n",
       "<table border=\"1\" class=\"dataframe\">\n",
       "  <thead>\n",
       "    <tr style=\"text-align: right;\">\n",
       "      <th></th>\n",
       "      <th>model</th>\n",
       "      <th>precision</th>\n",
       "    </tr>\n",
       "  </thead>\n",
       "  <tbody>\n",
       "    <tr>\n",
       "      <th>0</th>\n",
       "      <td>model1</td>\n",
       "      <td>0.689772</td>\n",
       "    </tr>\n",
       "    <tr>\n",
       "      <th>1</th>\n",
       "      <td>model2</td>\n",
       "      <td>0.484122</td>\n",
       "    </tr>\n",
       "    <tr>\n",
       "      <th>2</th>\n",
       "      <td>model3</td>\n",
       "      <td>0.358347</td>\n",
       "    </tr>\n",
       "    <tr>\n",
       "      <th>3</th>\n",
       "      <td>model4</td>\n",
       "      <td>0.807229</td>\n",
       "    </tr>\n",
       "    <tr>\n",
       "      <th>4</th>\n",
       "      <td>baseline_prediction</td>\n",
       "      <td>NaN</td>\n",
       "    </tr>\n",
       "  </tbody>\n",
       "</table>\n",
       "</div>"
      ],
      "text/plain": [
       "                 model  precision\n",
       "0               model1   0.689772\n",
       "1               model2   0.484122\n",
       "2               model3   0.358347\n",
       "3               model4   0.807229\n",
       "4  baseline_prediction        NaN"
      ]
     },
     "execution_count": 45,
     "metadata": {},
     "output_type": "execute_result"
    }
   ],
   "source": [
    "#make pretty in df\n",
    "pd.DataFrame(model_pre, columns=['model','precision'])"
   ]
  },
  {
   "cell_type": "markdown",
   "id": "228ce911",
   "metadata": {},
   "source": [
    "#### 5. Follow the links below to read the documentation about each function, then apply those functions to the data from the previous problem.\n",
    "    - sklearn.metrics.accuracy_score\n",
    "    - sklearn.metrics.precision_score\n",
    "    - sklearn.metrics.recall_score\n",
    "    - sklearn.metrics.classification_report"
   ]
  },
  {
   "cell_type": "code",
   "execution_count": 46,
   "id": "0f2b7f27",
   "metadata": {},
   "outputs": [
    {
     "name": "stdout",
     "output_type": "stream",
     "text": [
      "model1\n",
      "              precision    recall  f1-score    support\n",
      "cat            0.689772  0.815006  0.747178  1746.0000\n",
      "dog            0.890024  0.803319  0.844452  3254.0000\n",
      "accuracy       0.807400  0.807400  0.807400     0.8074\n",
      "macro avg      0.789898  0.809162  0.795815  5000.0000\n",
      "weighted avg   0.820096  0.807400  0.810484  5000.0000\n",
      "\n",
      "model2\n",
      "              precision    recall  f1-score    support\n",
      "cat            0.484122  0.890607  0.627269  1746.0000\n",
      "dog            0.893177  0.490781  0.633479  3254.0000\n",
      "accuracy       0.630400  0.630400  0.630400     0.6304\n",
      "macro avg      0.688649  0.690694  0.630374  5000.0000\n",
      "weighted avg   0.750335  0.630400  0.631310  5000.0000\n",
      "\n",
      "model3\n",
      "              precision    recall  f1-score    support\n",
      "cat            0.358347  0.511455  0.421425  1746.0000\n",
      "dog            0.659888  0.508605  0.574453  3254.0000\n",
      "accuracy       0.509600  0.509600  0.509600     0.5096\n",
      "macro avg      0.509118  0.510030  0.497939  5000.0000\n",
      "weighted avg   0.554590  0.509600  0.521016  5000.0000\n",
      "\n",
      "model4\n",
      "              precision    recall  f1-score    support\n",
      "cat            0.807229  0.345361  0.483755  1746.0000\n",
      "dog            0.731249  0.955747  0.828560  3254.0000\n",
      "accuracy       0.742600  0.742600  0.742600     0.7426\n",
      "macro avg      0.769239  0.650554  0.656157  5000.0000\n",
      "weighted avg   0.757781  0.742600  0.708154  5000.0000\n",
      "\n",
      "baseline_prediction\n",
      "              precision  recall  f1-score    support\n",
      "cat            0.000000  0.0000  0.000000  1746.0000\n",
      "dog            0.650800  1.0000  0.788466  3254.0000\n",
      "accuracy       0.650800  0.6508  0.650800     0.6508\n",
      "macro avg      0.325400  0.5000  0.394233  5000.0000\n",
      "weighted avg   0.423541  0.6508  0.513134  5000.0000\n",
      "\n"
     ]
    },
    {
     "name": "stderr",
     "output_type": "stream",
     "text": [
      "/opt/homebrew/anaconda3/lib/python3.9/site-packages/sklearn/metrics/_classification.py:1344: UndefinedMetricWarning: Precision and F-score are ill-defined and being set to 0.0 in labels with no predicted samples. Use `zero_division` parameter to control this behavior.\n",
      "  _warn_prf(average, modifier, msg_start, len(result))\n",
      "/opt/homebrew/anaconda3/lib/python3.9/site-packages/sklearn/metrics/_classification.py:1344: UndefinedMetricWarning: Precision and F-score are ill-defined and being set to 0.0 in labels with no predicted samples. Use `zero_division` parameter to control this behavior.\n",
      "  _warn_prf(average, modifier, msg_start, len(result))\n",
      "/opt/homebrew/anaconda3/lib/python3.9/site-packages/sklearn/metrics/_classification.py:1344: UndefinedMetricWarning: Precision and F-score are ill-defined and being set to 0.0 in labels with no predicted samples. Use `zero_division` parameter to control this behavior.\n",
      "  _warn_prf(average, modifier, msg_start, len(result))\n"
     ]
    }
   ],
   "source": [
    "#classification report of models \n",
    "\n",
    "for col in paws_df.columns:\n",
    "    if col != 'actual':\n",
    "        print(col)\n",
    "        df1 = pd.DataFrame(classification_report(paws_df.actual, paws_df[col], \n",
    "                      labels=['cat','dog'],\n",
    "                      output_dict=True)).T\n",
    "        print(df1)\n",
    "        print()\n",
    "    "
   ]
  },
  {
   "cell_type": "code",
   "execution_count": 47,
   "id": "1996dc33",
   "metadata": {},
   "outputs": [],
   "source": [
    "def calculate_precision(predictions, positive='dog'):\n",
    "    return precision_score(paws_df.actual, predictions, pos_label=positive)"
   ]
  },
  {
   "cell_type": "code",
   "execution_count": 48,
   "id": "eceb6430",
   "metadata": {},
   "outputs": [],
   "source": [
    "def calculate_recall(predictions, positive='dog'):\n",
    "    return recall_score(paws_df.actual, predictions, pos_label=positive)"
   ]
  },
  {
   "cell_type": "code",
   "execution_count": 49,
   "id": "f724b755",
   "metadata": {},
   "outputs": [
    {
     "data": {
      "text/html": [
       "<div>\n",
       "<style scoped>\n",
       "    .dataframe tbody tr th:only-of-type {\n",
       "        vertical-align: middle;\n",
       "    }\n",
       "\n",
       "    .dataframe tbody tr th {\n",
       "        vertical-align: top;\n",
       "    }\n",
       "\n",
       "    .dataframe thead th {\n",
       "        text-align: right;\n",
       "    }\n",
       "</style>\n",
       "<table border=\"1\" class=\"dataframe\">\n",
       "  <thead>\n",
       "    <tr style=\"text-align: right;\">\n",
       "      <th></th>\n",
       "      <th>recall</th>\n",
       "      <th>precision</th>\n",
       "    </tr>\n",
       "  </thead>\n",
       "  <tbody>\n",
       "    <tr>\n",
       "      <th>model1</th>\n",
       "      <td>0.803319</td>\n",
       "      <td>0.890024</td>\n",
       "    </tr>\n",
       "    <tr>\n",
       "      <th>model2</th>\n",
       "      <td>0.490781</td>\n",
       "      <td>0.893177</td>\n",
       "    </tr>\n",
       "    <tr>\n",
       "      <th>model3</th>\n",
       "      <td>0.508605</td>\n",
       "      <td>0.659888</td>\n",
       "    </tr>\n",
       "    <tr>\n",
       "      <th>model4</th>\n",
       "      <td>0.955747</td>\n",
       "      <td>0.731249</td>\n",
       "    </tr>\n",
       "    <tr>\n",
       "      <th>baseline_prediction</th>\n",
       "      <td>1.000000</td>\n",
       "      <td>0.650800</td>\n",
       "    </tr>\n",
       "  </tbody>\n",
       "</table>\n",
       "</div>"
      ],
      "text/plain": [
       "                       recall  precision\n",
       "model1               0.803319   0.890024\n",
       "model2               0.490781   0.893177\n",
       "model3               0.508605   0.659888\n",
       "model4               0.955747   0.731249\n",
       "baseline_prediction  1.000000   0.650800"
      ]
     },
     "execution_count": 49,
     "metadata": {},
     "output_type": "execute_result"
    }
   ],
   "source": [
    "pd.concat([\n",
    "    paws_df.loc[:, 'model1':'baseline_prediction'].apply(calculate_recall).rename('recall'),\n",
    "    paws_df.loc[:, 'model1':'baseline_prediction'].apply(calculate_precision).rename('precision'),\n",
    "], axis=1)"
   ]
  },
  {
   "cell_type": "code",
   "execution_count": null,
   "id": "353a1aa7",
   "metadata": {},
   "outputs": [],
   "source": []
  }
 ],
 "metadata": {
  "kernelspec": {
   "display_name": "Python 3 (ipykernel)",
   "language": "python",
   "name": "python3"
  },
  "language_info": {
   "codemirror_mode": {
    "name": "ipython",
    "version": 3
   },
   "file_extension": ".py",
   "mimetype": "text/x-python",
   "name": "python",
   "nbconvert_exporter": "python",
   "pygments_lexer": "ipython3",
   "version": "3.9.13"
  }
 },
 "nbformat": 4,
 "nbformat_minor": 5
}
